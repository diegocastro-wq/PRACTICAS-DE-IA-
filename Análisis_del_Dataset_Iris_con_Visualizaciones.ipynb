{
  "nbformat": 4,
  "nbformat_minor": 0,
  "metadata": {
    "colab": {
      "provenance": [],
      "collapsed_sections": [
        "4gFsybsEvB4G"
      ]
    },
    "kernelspec": {
      "name": "python3",
      "display_name": "Python 3"
    },
    "language_info": {
      "name": "python"
    }
  },
  "cells": [
    {
      "cell_type": "markdown",
      "source": [
        "#Análisis del Dataset Iris con Visualizaciones"
      ],
      "metadata": {
        "id": "4gFsybsEvB4G"
      }
    },
    {
      "cell_type": "markdown",
      "source": [
        "## 1. Carga y Exploración Inicial"
      ],
      "metadata": {
        "id": "mRBZ491svETr"
      }
    },
    {
      "cell_type": "code",
      "source": [
        "# Importar librerías necesarias\n",
        "import numpy as np\n",
        "import pandas as pd\n",
        "import matplotlib.pyplot as plt\n",
        "import seaborn as sns\n",
        "from sklearn.datasets import load_iris\n",
        "\n",
        "# Cargar dataset\n",
        "iris = load_iris()\n",
        "print(\"Dataset Iris cargado!\")\n",
        "print(f\"Características: {iris.feature_names}\")\n",
        "print(f\"Etiquetas: {iris.target_names}\")\n",
        "\n",
        "# Crear DataFrame\n",
        "df = pd.DataFrame(data=iris.data, columns=iris.feature_names)\n",
        "df['species'] = iris.target\n",
        "df['species_name'] = df['species'].map({0: 'setosa', 1: 'versicolor', 2: 'virginica'})\n",
        "\n",
        "print(\"\\nPrimeras filas del dataset:\")\n",
        "display(df.head())"
      ],
      "metadata": {
        "colab": {
          "base_uri": "https://localhost:8080/",
          "height": 293
        },
        "id": "bJ-c9IWR0tD7",
        "outputId": "34971bd3-42ce-4c22-a6ab-a9ed9c8ce50d"
      },
      "execution_count": 1,
      "outputs": [
        {
          "output_type": "stream",
          "name": "stdout",
          "text": [
            "Dataset Iris cargado!\n",
            "Características: ['sepal length (cm)', 'sepal width (cm)', 'petal length (cm)', 'petal width (cm)']\n",
            "Etiquetas: ['setosa' 'versicolor' 'virginica']\n",
            "\n",
            "Primeras filas del dataset:\n"
          ]
        },
        {
          "output_type": "display_data",
          "data": {
            "text/plain": [
              "   sepal length (cm)  sepal width (cm)  petal length (cm)  petal width (cm)  \\\n",
              "0                5.1               3.5                1.4               0.2   \n",
              "1                4.9               3.0                1.4               0.2   \n",
              "2                4.7               3.2                1.3               0.2   \n",
              "3                4.6               3.1                1.5               0.2   \n",
              "4                5.0               3.6                1.4               0.2   \n",
              "\n",
              "   species species_name  \n",
              "0        0       setosa  \n",
              "1        0       setosa  \n",
              "2        0       setosa  \n",
              "3        0       setosa  \n",
              "4        0       setosa  "
            ],
            "text/html": [
              "\n",
              "  <div id=\"df-c2f91afd-36b3-4371-b3da-d5a302711f8e\" class=\"colab-df-container\">\n",
              "    <div>\n",
              "<style scoped>\n",
              "    .dataframe tbody tr th:only-of-type {\n",
              "        vertical-align: middle;\n",
              "    }\n",
              "\n",
              "    .dataframe tbody tr th {\n",
              "        vertical-align: top;\n",
              "    }\n",
              "\n",
              "    .dataframe thead th {\n",
              "        text-align: right;\n",
              "    }\n",
              "</style>\n",
              "<table border=\"1\" class=\"dataframe\">\n",
              "  <thead>\n",
              "    <tr style=\"text-align: right;\">\n",
              "      <th></th>\n",
              "      <th>sepal length (cm)</th>\n",
              "      <th>sepal width (cm)</th>\n",
              "      <th>petal length (cm)</th>\n",
              "      <th>petal width (cm)</th>\n",
              "      <th>species</th>\n",
              "      <th>species_name</th>\n",
              "    </tr>\n",
              "  </thead>\n",
              "  <tbody>\n",
              "    <tr>\n",
              "      <th>0</th>\n",
              "      <td>5.1</td>\n",
              "      <td>3.5</td>\n",
              "      <td>1.4</td>\n",
              "      <td>0.2</td>\n",
              "      <td>0</td>\n",
              "      <td>setosa</td>\n",
              "    </tr>\n",
              "    <tr>\n",
              "      <th>1</th>\n",
              "      <td>4.9</td>\n",
              "      <td>3.0</td>\n",
              "      <td>1.4</td>\n",
              "      <td>0.2</td>\n",
              "      <td>0</td>\n",
              "      <td>setosa</td>\n",
              "    </tr>\n",
              "    <tr>\n",
              "      <th>2</th>\n",
              "      <td>4.7</td>\n",
              "      <td>3.2</td>\n",
              "      <td>1.3</td>\n",
              "      <td>0.2</td>\n",
              "      <td>0</td>\n",
              "      <td>setosa</td>\n",
              "    </tr>\n",
              "    <tr>\n",
              "      <th>3</th>\n",
              "      <td>4.6</td>\n",
              "      <td>3.1</td>\n",
              "      <td>1.5</td>\n",
              "      <td>0.2</td>\n",
              "      <td>0</td>\n",
              "      <td>setosa</td>\n",
              "    </tr>\n",
              "    <tr>\n",
              "      <th>4</th>\n",
              "      <td>5.0</td>\n",
              "      <td>3.6</td>\n",
              "      <td>1.4</td>\n",
              "      <td>0.2</td>\n",
              "      <td>0</td>\n",
              "      <td>setosa</td>\n",
              "    </tr>\n",
              "  </tbody>\n",
              "</table>\n",
              "</div>\n",
              "    <div class=\"colab-df-buttons\">\n",
              "\n",
              "  <div class=\"colab-df-container\">\n",
              "    <button class=\"colab-df-convert\" onclick=\"convertToInteractive('df-c2f91afd-36b3-4371-b3da-d5a302711f8e')\"\n",
              "            title=\"Convert this dataframe to an interactive table.\"\n",
              "            style=\"display:none;\">\n",
              "\n",
              "  <svg xmlns=\"http://www.w3.org/2000/svg\" height=\"24px\" viewBox=\"0 -960 960 960\">\n",
              "    <path d=\"M120-120v-720h720v720H120Zm60-500h600v-160H180v160Zm220 220h160v-160H400v160Zm0 220h160v-160H400v160ZM180-400h160v-160H180v160Zm440 0h160v-160H620v160ZM180-180h160v-160H180v160Zm440 0h160v-160H620v160Z\"/>\n",
              "  </svg>\n",
              "    </button>\n",
              "\n",
              "  <style>\n",
              "    .colab-df-container {\n",
              "      display:flex;\n",
              "      gap: 12px;\n",
              "    }\n",
              "\n",
              "    .colab-df-convert {\n",
              "      background-color: #E8F0FE;\n",
              "      border: none;\n",
              "      border-radius: 50%;\n",
              "      cursor: pointer;\n",
              "      display: none;\n",
              "      fill: #1967D2;\n",
              "      height: 32px;\n",
              "      padding: 0 0 0 0;\n",
              "      width: 32px;\n",
              "    }\n",
              "\n",
              "    .colab-df-convert:hover {\n",
              "      background-color: #E2EBFA;\n",
              "      box-shadow: 0px 1px 2px rgba(60, 64, 67, 0.3), 0px 1px 3px 1px rgba(60, 64, 67, 0.15);\n",
              "      fill: #174EA6;\n",
              "    }\n",
              "\n",
              "    .colab-df-buttons div {\n",
              "      margin-bottom: 4px;\n",
              "    }\n",
              "\n",
              "    [theme=dark] .colab-df-convert {\n",
              "      background-color: #3B4455;\n",
              "      fill: #D2E3FC;\n",
              "    }\n",
              "\n",
              "    [theme=dark] .colab-df-convert:hover {\n",
              "      background-color: #434B5C;\n",
              "      box-shadow: 0px 1px 3px 1px rgba(0, 0, 0, 0.15);\n",
              "      filter: drop-shadow(0px 1px 2px rgba(0, 0, 0, 0.3));\n",
              "      fill: #FFFFFF;\n",
              "    }\n",
              "  </style>\n",
              "\n",
              "    <script>\n",
              "      const buttonEl =\n",
              "        document.querySelector('#df-c2f91afd-36b3-4371-b3da-d5a302711f8e button.colab-df-convert');\n",
              "      buttonEl.style.display =\n",
              "        google.colab.kernel.accessAllowed ? 'block' : 'none';\n",
              "\n",
              "      async function convertToInteractive(key) {\n",
              "        const element = document.querySelector('#df-c2f91afd-36b3-4371-b3da-d5a302711f8e');\n",
              "        const dataTable =\n",
              "          await google.colab.kernel.invokeFunction('convertToInteractive',\n",
              "                                                    [key], {});\n",
              "        if (!dataTable) return;\n",
              "\n",
              "        const docLinkHtml = 'Like what you see? Visit the ' +\n",
              "          '<a target=\"_blank\" href=https://colab.research.google.com/notebooks/data_table.ipynb>data table notebook</a>'\n",
              "          + ' to learn more about interactive tables.';\n",
              "        element.innerHTML = '';\n",
              "        dataTable['output_type'] = 'display_data';\n",
              "        await google.colab.output.renderOutput(dataTable, element);\n",
              "        const docLink = document.createElement('div');\n",
              "        docLink.innerHTML = docLinkHtml;\n",
              "        element.appendChild(docLink);\n",
              "      }\n",
              "    </script>\n",
              "  </div>\n",
              "\n",
              "\n",
              "    <div id=\"df-68d7c839-e7dc-43c3-941a-3451f4817c76\">\n",
              "      <button class=\"colab-df-quickchart\" onclick=\"quickchart('df-68d7c839-e7dc-43c3-941a-3451f4817c76')\"\n",
              "                title=\"Suggest charts\"\n",
              "                style=\"display:none;\">\n",
              "\n",
              "<svg xmlns=\"http://www.w3.org/2000/svg\" height=\"24px\"viewBox=\"0 0 24 24\"\n",
              "     width=\"24px\">\n",
              "    <g>\n",
              "        <path d=\"M19 3H5c-1.1 0-2 .9-2 2v14c0 1.1.9 2 2 2h14c1.1 0 2-.9 2-2V5c0-1.1-.9-2-2-2zM9 17H7v-7h2v7zm4 0h-2V7h2v10zm4 0h-2v-4h2v4z\"/>\n",
              "    </g>\n",
              "</svg>\n",
              "      </button>\n",
              "\n",
              "<style>\n",
              "  .colab-df-quickchart {\n",
              "      --bg-color: #E8F0FE;\n",
              "      --fill-color: #1967D2;\n",
              "      --hover-bg-color: #E2EBFA;\n",
              "      --hover-fill-color: #174EA6;\n",
              "      --disabled-fill-color: #AAA;\n",
              "      --disabled-bg-color: #DDD;\n",
              "  }\n",
              "\n",
              "  [theme=dark] .colab-df-quickchart {\n",
              "      --bg-color: #3B4455;\n",
              "      --fill-color: #D2E3FC;\n",
              "      --hover-bg-color: #434B5C;\n",
              "      --hover-fill-color: #FFFFFF;\n",
              "      --disabled-bg-color: #3B4455;\n",
              "      --disabled-fill-color: #666;\n",
              "  }\n",
              "\n",
              "  .colab-df-quickchart {\n",
              "    background-color: var(--bg-color);\n",
              "    border: none;\n",
              "    border-radius: 50%;\n",
              "    cursor: pointer;\n",
              "    display: none;\n",
              "    fill: var(--fill-color);\n",
              "    height: 32px;\n",
              "    padding: 0;\n",
              "    width: 32px;\n",
              "  }\n",
              "\n",
              "  .colab-df-quickchart:hover {\n",
              "    background-color: var(--hover-bg-color);\n",
              "    box-shadow: 0 1px 2px rgba(60, 64, 67, 0.3), 0 1px 3px 1px rgba(60, 64, 67, 0.15);\n",
              "    fill: var(--button-hover-fill-color);\n",
              "  }\n",
              "\n",
              "  .colab-df-quickchart-complete:disabled,\n",
              "  .colab-df-quickchart-complete:disabled:hover {\n",
              "    background-color: var(--disabled-bg-color);\n",
              "    fill: var(--disabled-fill-color);\n",
              "    box-shadow: none;\n",
              "  }\n",
              "\n",
              "  .colab-df-spinner {\n",
              "    border: 2px solid var(--fill-color);\n",
              "    border-color: transparent;\n",
              "    border-bottom-color: var(--fill-color);\n",
              "    animation:\n",
              "      spin 1s steps(1) infinite;\n",
              "  }\n",
              "\n",
              "  @keyframes spin {\n",
              "    0% {\n",
              "      border-color: transparent;\n",
              "      border-bottom-color: var(--fill-color);\n",
              "      border-left-color: var(--fill-color);\n",
              "    }\n",
              "    20% {\n",
              "      border-color: transparent;\n",
              "      border-left-color: var(--fill-color);\n",
              "      border-top-color: var(--fill-color);\n",
              "    }\n",
              "    30% {\n",
              "      border-color: transparent;\n",
              "      border-left-color: var(--fill-color);\n",
              "      border-top-color: var(--fill-color);\n",
              "      border-right-color: var(--fill-color);\n",
              "    }\n",
              "    40% {\n",
              "      border-color: transparent;\n",
              "      border-right-color: var(--fill-color);\n",
              "      border-top-color: var(--fill-color);\n",
              "    }\n",
              "    60% {\n",
              "      border-color: transparent;\n",
              "      border-right-color: var(--fill-color);\n",
              "    }\n",
              "    80% {\n",
              "      border-color: transparent;\n",
              "      border-right-color: var(--fill-color);\n",
              "      border-bottom-color: var(--fill-color);\n",
              "    }\n",
              "    90% {\n",
              "      border-color: transparent;\n",
              "      border-bottom-color: var(--fill-color);\n",
              "    }\n",
              "  }\n",
              "</style>\n",
              "\n",
              "      <script>\n",
              "        async function quickchart(key) {\n",
              "          const quickchartButtonEl =\n",
              "            document.querySelector('#' + key + ' button');\n",
              "          quickchartButtonEl.disabled = true;  // To prevent multiple clicks.\n",
              "          quickchartButtonEl.classList.add('colab-df-spinner');\n",
              "          try {\n",
              "            const charts = await google.colab.kernel.invokeFunction(\n",
              "                'suggestCharts', [key], {});\n",
              "          } catch (error) {\n",
              "            console.error('Error during call to suggestCharts:', error);\n",
              "          }\n",
              "          quickchartButtonEl.classList.remove('colab-df-spinner');\n",
              "          quickchartButtonEl.classList.add('colab-df-quickchart-complete');\n",
              "        }\n",
              "        (() => {\n",
              "          let quickchartButtonEl =\n",
              "            document.querySelector('#df-68d7c839-e7dc-43c3-941a-3451f4817c76 button');\n",
              "          quickchartButtonEl.style.display =\n",
              "            google.colab.kernel.accessAllowed ? 'block' : 'none';\n",
              "        })();\n",
              "      </script>\n",
              "    </div>\n",
              "\n",
              "    </div>\n",
              "  </div>\n"
            ],
            "application/vnd.google.colaboratory.intrinsic+json": {
              "type": "dataframe",
              "summary": "{\n  \"name\": \"display(df\",\n  \"rows\": 5,\n  \"fields\": [\n    {\n      \"column\": \"sepal length (cm)\",\n      \"properties\": {\n        \"dtype\": \"number\",\n        \"std\": 0.2073644135332772,\n        \"min\": 4.6,\n        \"max\": 5.1,\n        \"num_unique_values\": 5,\n        \"samples\": [\n          4.9,\n          5.0,\n          4.7\n        ],\n        \"semantic_type\": \"\",\n        \"description\": \"\"\n      }\n    },\n    {\n      \"column\": \"sepal width (cm)\",\n      \"properties\": {\n        \"dtype\": \"number\",\n        \"std\": 0.2588435821108957,\n        \"min\": 3.0,\n        \"max\": 3.6,\n        \"num_unique_values\": 5,\n        \"samples\": [\n          3.0,\n          3.6,\n          3.2\n        ],\n        \"semantic_type\": \"\",\n        \"description\": \"\"\n      }\n    },\n    {\n      \"column\": \"petal length (cm)\",\n      \"properties\": {\n        \"dtype\": \"number\",\n        \"std\": 0.07071067811865474,\n        \"min\": 1.3,\n        \"max\": 1.5,\n        \"num_unique_values\": 3,\n        \"samples\": [\n          1.4,\n          1.3,\n          1.5\n        ],\n        \"semantic_type\": \"\",\n        \"description\": \"\"\n      }\n    },\n    {\n      \"column\": \"petal width (cm)\",\n      \"properties\": {\n        \"dtype\": \"number\",\n        \"std\": 0.0,\n        \"min\": 0.2,\n        \"max\": 0.2,\n        \"num_unique_values\": 1,\n        \"samples\": [\n          0.2\n        ],\n        \"semantic_type\": \"\",\n        \"description\": \"\"\n      }\n    },\n    {\n      \"column\": \"species\",\n      \"properties\": {\n        \"dtype\": \"number\",\n        \"std\": 0,\n        \"min\": 0,\n        \"max\": 0,\n        \"num_unique_values\": 1,\n        \"samples\": [\n          0\n        ],\n        \"semantic_type\": \"\",\n        \"description\": \"\"\n      }\n    },\n    {\n      \"column\": \"species_name\",\n      \"properties\": {\n        \"dtype\": \"category\",\n        \"num_unique_values\": 1,\n        \"samples\": [\n          \"setosa\"\n        ],\n        \"semantic_type\": \"\",\n        \"description\": \"\"\n      }\n    }\n  ]\n}"
            }
          },
          "metadata": {}
        }
      ]
    },
    {
      "cell_type": "markdown",
      "source": [
        "### EXPLICACIÓN"
      ],
      "metadata": {
        "id": "BSEXPu4h0xGJ"
      }
    },
    {
      "cell_type": "markdown",
      "source": [
        "El código presentado tiene como objetivo cargar el famoso dataset Iris utilizando la librería scikit-learn y organizarlo en un DataFrame de pandas para facilitar su análisis. Primero se importan las librerías necesarias para el manejo de datos, operaciones numéricas y visualización. Luego, con load_iris(), se obtiene el conjunto de datos que contiene medidas de sépalos y pétalos de tres especies de flores: setosa, versicolor y virginica.\n",
        "\n",
        "Posteriormente, se crea un DataFrame con las características numéricas y se añaden dos columnas: una con las etiquetas numéricas de cada especie y otra con sus nombres correspondientes. Finalmente, se muestran las primeras filas de la tabla, lo que permite verificar que los datos fueron cargados correctamente y están listos para un análisis más profundo."
      ],
      "metadata": {
        "id": "gKahlZyp0zyr"
      }
    },
    {
      "cell_type": "markdown",
      "source": [
        "## 2. Estadísticas Descriptivas"
      ],
      "metadata": {
        "id": "6uT6WoqnNE56"
      }
    },
    {
      "cell_type": "code",
      "source": [
        "# %%\n",
        "# Resumen estadístico\n",
        "print(\"Resumen estadístico:\")\n",
        "display(df.describe())\n",
        "\n",
        "# Distribución de especies\n",
        "print(\"\\nDistribución de especies:\")\n",
        "print(df['species_name'].value_counts())"
      ],
      "metadata": {
        "colab": {
          "base_uri": "https://localhost:8080/",
          "height": 228
        },
        "id": "KjExI20fNGxn",
        "outputId": "e894ac2b-a941-4cdd-dc6d-b2387381584a"
      },
      "execution_count": 3,
      "outputs": [
        {
          "output_type": "stream",
          "name": "stdout",
          "text": [
            "Resumen estadístico:\n"
          ]
        },
        {
          "output_type": "error",
          "ename": "NameError",
          "evalue": "name 'df' is not defined",
          "traceback": [
            "\u001b[0;31m---------------------------------------------------------------------------\u001b[0m",
            "\u001b[0;31mNameError\u001b[0m                                 Traceback (most recent call last)",
            "\u001b[0;32m/tmp/ipython-input-200486267.py\u001b[0m in \u001b[0;36m<cell line: 0>\u001b[0;34m()\u001b[0m\n\u001b[1;32m      2\u001b[0m \u001b[0;31m# Resumen estadístico\u001b[0m\u001b[0;34m\u001b[0m\u001b[0;34m\u001b[0m\u001b[0m\n\u001b[1;32m      3\u001b[0m \u001b[0mprint\u001b[0m\u001b[0;34m(\u001b[0m\u001b[0;34m\"Resumen estadístico:\"\u001b[0m\u001b[0;34m)\u001b[0m\u001b[0;34m\u001b[0m\u001b[0;34m\u001b[0m\u001b[0m\n\u001b[0;32m----> 4\u001b[0;31m \u001b[0mdisplay\u001b[0m\u001b[0;34m(\u001b[0m\u001b[0mdf\u001b[0m\u001b[0;34m.\u001b[0m\u001b[0mdescribe\u001b[0m\u001b[0;34m(\u001b[0m\u001b[0;34m)\u001b[0m\u001b[0;34m)\u001b[0m\u001b[0;34m\u001b[0m\u001b[0;34m\u001b[0m\u001b[0m\n\u001b[0m\u001b[1;32m      5\u001b[0m \u001b[0;34m\u001b[0m\u001b[0m\n\u001b[1;32m      6\u001b[0m \u001b[0;31m# Distribución de especies\u001b[0m\u001b[0;34m\u001b[0m\u001b[0;34m\u001b[0m\u001b[0m\n",
            "\u001b[0;31mNameError\u001b[0m: name 'df' is not defined"
          ]
        }
      ]
    },
    {
      "cell_type": "markdown",
      "source": [
        "### EXPLICACIÓN"
      ],
      "metadata": {
        "id": "T5oli6VVNI1v"
      }
    },
    {
      "cell_type": "markdown",
      "source": [
        "Este bloque imprime un resumen estadístico de las columnas numéricas del DataFrame usando df.describe() (muestra count, mean, std, min, 25%, 50%, 75% y max) y luego muestra la distribución de especies con value_counts() para ver cuántas filas hay de setosa, versicolor y virginica. Estas salidas dan una visión rápida de la centralidad, dispersión y el balance de clases del dataset.\n",
        "\n",
        "Es la continuación directa del código anterior: después de cargar y crear df, estas líneas permiten verificar la calidad y la estructura de los datos antes de hacer gráficos o entrenar modelos. Asegúrate de ejecutar ambas celdas en el mismo kernel para evitar el NameError."
      ],
      "metadata": {
        "id": "nfKeVhKDOlqe"
      }
    },
    {
      "cell_type": "markdown",
      "source": [
        "##3. Visualizaciones Básicas"
      ],
      "metadata": {
        "id": "rdSAuFPZO0X6"
      }
    },
    {
      "cell_type": "code",
      "source": [
        "# %%\n",
        "# Histogramas para cada característica\n",
        "plt.figure(figsize=(12, 8))\n",
        "df.hist(bins=20, edgecolor='black', grid=False)\n",
        "plt.suptitle('Distribución de Características', fontsize=16)\n",
        "plt.tight_layout(rect=[0, 0, 1, 0.96])\n",
        "plt.show()\n",
        "\n",
        "# %%\n",
        "# Boxplots por especie\n",
        "plt.figure(figsize=(12, 6))\n",
        "sns.boxplot(data=df, x='species_name', y='petal length (cm)')\n",
        "plt.title('Longitud de Pétalo por Especie')\n",
        "plt.show()\n",
        "\n",
        "# %%\n",
        "# Pairplot para relaciones entre variables\n",
        "sns.pairplot(df, hue='species_name', palette='viridis')\n",
        "plt.suptitle('Relaciones entre Características', y=1.02)\n",
        "plt.show()"
      ],
      "metadata": {
        "colab": {
          "base_uri": "https://localhost:8080/",
          "height": 211
        },
        "id": "xXzVZUgbO1oE",
        "outputId": "36b77212-9541-4173-af21-774f6fe12b14"
      },
      "execution_count": 4,
      "outputs": [
        {
          "output_type": "error",
          "ename": "NameError",
          "evalue": "name 'plt' is not defined",
          "traceback": [
            "\u001b[0;31m---------------------------------------------------------------------------\u001b[0m",
            "\u001b[0;31mNameError\u001b[0m                                 Traceback (most recent call last)",
            "\u001b[0;32m/tmp/ipython-input-443915679.py\u001b[0m in \u001b[0;36m<cell line: 0>\u001b[0;34m()\u001b[0m\n\u001b[1;32m      1\u001b[0m \u001b[0;31m# %%\u001b[0m\u001b[0;34m\u001b[0m\u001b[0;34m\u001b[0m\u001b[0m\n\u001b[1;32m      2\u001b[0m \u001b[0;31m# Histogramas para cada característica\u001b[0m\u001b[0;34m\u001b[0m\u001b[0;34m\u001b[0m\u001b[0m\n\u001b[0;32m----> 3\u001b[0;31m \u001b[0mplt\u001b[0m\u001b[0;34m.\u001b[0m\u001b[0mfigure\u001b[0m\u001b[0;34m(\u001b[0m\u001b[0mfigsize\u001b[0m\u001b[0;34m=\u001b[0m\u001b[0;34m(\u001b[0m\u001b[0;36m12\u001b[0m\u001b[0;34m,\u001b[0m \u001b[0;36m8\u001b[0m\u001b[0;34m)\u001b[0m\u001b[0;34m)\u001b[0m\u001b[0;34m\u001b[0m\u001b[0;34m\u001b[0m\u001b[0m\n\u001b[0m\u001b[1;32m      4\u001b[0m \u001b[0mdf\u001b[0m\u001b[0;34m.\u001b[0m\u001b[0mhist\u001b[0m\u001b[0;34m(\u001b[0m\u001b[0mbins\u001b[0m\u001b[0;34m=\u001b[0m\u001b[0;36m20\u001b[0m\u001b[0;34m,\u001b[0m \u001b[0medgecolor\u001b[0m\u001b[0;34m=\u001b[0m\u001b[0;34m'black'\u001b[0m\u001b[0;34m,\u001b[0m \u001b[0mgrid\u001b[0m\u001b[0;34m=\u001b[0m\u001b[0;32mFalse\u001b[0m\u001b[0;34m)\u001b[0m\u001b[0;34m\u001b[0m\u001b[0;34m\u001b[0m\u001b[0m\n\u001b[1;32m      5\u001b[0m \u001b[0mplt\u001b[0m\u001b[0;34m.\u001b[0m\u001b[0msuptitle\u001b[0m\u001b[0;34m(\u001b[0m\u001b[0;34m'Distribución de Características'\u001b[0m\u001b[0;34m,\u001b[0m \u001b[0mfontsize\u001b[0m\u001b[0;34m=\u001b[0m\u001b[0;36m16\u001b[0m\u001b[0;34m)\u001b[0m\u001b[0;34m\u001b[0m\u001b[0;34m\u001b[0m\u001b[0m\n",
            "\u001b[0;31mNameError\u001b[0m: name 'plt' is not defined"
          ]
        }
      ]
    },
    {
      "cell_type": "markdown",
      "source": [
        "### EXPLICACIÓN"
      ],
      "metadata": {
        "id": "wUn_QsRJPnPg"
      }
    },
    {
      "cell_type": "markdown",
      "source": [
        "En esta parte del análisis se incorporan gráficas exploratorias para visualizar los datos del dataset Iris. Primero, con df.hist() se generan histogramas de cada característica, lo que permite observar la distribución y la frecuencia de los valores de sépalos y pétalos. Luego, con un boxplot mediante sns.boxplot, se comparan las longitudes de pétalo entre las tres especies, mostrando medianas, rangos y posibles valores atípicos.\n",
        "\n",
        "Finalmente, se utiliza sns.pairplot() para crear una matriz de diagramas de dispersión que muestra cómo se relacionan las variables entre sí, coloreando los puntos según la especie. Estas visualizaciones complementan el resumen estadístico anterior, ya que facilitan identificar patrones, diferencias claras entre especies y la posible separabilidad de los datos para futuras tareas de clasificación."
      ],
      "metadata": {
        "id": "T_3Kf0tbSoee"
      }
    },
    {
      "cell_type": "markdown",
      "source": [
        "## 4. Análisis Avanzado"
      ],
      "metadata": {
        "id": "oV8eyxjVPpmJ"
      }
    },
    {
      "cell_type": "code",
      "source": [
        "# Violin plots para comparar distribuciones\n",
        "plt.figure(figsize=(12, 6))\n",
        "sns.violinplot(data=df, x='species_name', y='sepal length (cm)', inner='quartile')\n",
        "plt.title('Distribución de Longitud de Sépalo por Especie')\n",
        "plt.show()\n",
        "\n",
        "# %%\n",
        "# Gráfico 3D interactivo\n",
        "from mpl_toolkits.mplot3d import Axes3D\n",
        "\n",
        "fig = plt.figure(figsize=(10, 8))\n",
        "ax = fig.add_subplot(111, projection='3d')\n",
        "\n",
        "# Asignar colores a cada especie\n",
        "colors = {'setosa': 'red', 'versicolor': 'green', 'virginica': 'blue'}\n",
        "species_colors = df['species_name'].map(colors)\n",
        "\n",
        "# Graficar\n",
        "scatter = ax.scatter(df['sepal length (cm)'],\n",
        "                   df['sepal width (cm)'],\n",
        "                   df['petal length (cm)'],\n",
        "                   c=species_colors, s=50)\n",
        "\n",
        "# Etiquetas y título\n",
        "ax.set_xlabel('Sepal Length (cm)')\n",
        "ax.set_ylabel('Sepal Width (cm)')\n",
        "ax.set_zlabel('Petal Length (cm)')\n",
        "plt.title('Visualización 3D de las Especies')\n",
        "plt.legend(handles=scatter.legend_elements()[0],\n",
        "           labels=iris.target_names)\n",
        "plt.show()"
      ],
      "metadata": {
        "id": "_a48_NaqQOFu"
      },
      "execution_count": null,
      "outputs": []
    },
    {
      "cell_type": "markdown",
      "source": [
        "### EXPLICACIÓN"
      ],
      "metadata": {
        "id": "-rxhHreAQOmA"
      }
    },
    {
      "cell_type": "markdown",
      "source": [
        "En este bloque se añaden visualizaciones más avanzadas para comparar las especies del dataset Iris. Primero se emplea un violin plot con sns.violinplot, que combina la información de un boxplot y una curva de densidad. En este caso, permite observar cómo varía la longitud del sépalo en cada especie, mostrando tanto la distribución completa como los valores centrales.\n",
        "\n",
        "Luego se construye un gráfico 3D interactivo con matplotlib, donde cada punto representa una flor según la longitud y anchura del sépalo y la longitud del pétalo. Se usan colores diferentes para cada especie, lo que facilita distinguirlas visualmente en el espacio tridimensional. Esta representación complementa los gráficos anteriores al ofrecer una vista más intuitiva sobre cómo las características permiten separar a las especies."
      ],
      "metadata": {
        "id": "HrFKFLDsS9kq"
      }
    },
    {
      "cell_type": "markdown",
      "source": [
        "## 5. Procesamiento de Datos"
      ],
      "metadata": {
        "id": "SEnICoi4RjGK"
      }
    },
    {
      "cell_type": "code",
      "source": [
        "# %%\n",
        "# Normalización de datos\n",
        "from sklearn.preprocessing import StandardScaler\n",
        "\n",
        "scaler = StandardScaler()\n",
        "X_scaled = scaler.fit_transform(df[iris.feature_names])\n",
        "\n",
        "# Convertir a DataFrame para visualización\n",
        "df_scaled = pd.DataFrame(X_scaled, columns=iris.feature_names)\n",
        "df_scaled['species_name'] = df['species_name']\n",
        "\n",
        "print(\"Datos normalizados:\")\n",
        "display(df_scaled.head())\n",
        "\n",
        "# %%\n",
        "# Análisis de Componentes Principales (PCA)\n",
        "from sklearn.decomposition import PCA\n",
        "\n",
        "pca = PCA(n_components=2)\n",
        "X_pca = pca.fit_transform(X_scaled)\n",
        "\n",
        "# Crear DataFrame con componentes principales\n",
        "df_pca = pd.DataFrame(X_pca, columns=['PC1', 'PC2'])\n",
        "df_pca['species_name'] = df['species_name']\n",
        "\n",
        "# Visualizar resultados de PCA\n",
        "plt.figure(figsize=(10, 6))\n",
        "sns.scatterplot(data=df_pca, x='PC1', y='PC2', hue='species_name', s=100)\n",
        "plt.title('Análisis de Componentes Principales (PCA)')\n",
        "plt.show()"
      ],
      "metadata": {
        "id": "CduSh9BRRlu0"
      },
      "execution_count": null,
      "outputs": []
    },
    {
      "cell_type": "markdown",
      "source": [
        "### EXPLICACIÓN"
      ],
      "metadata": {
        "id": "rl1oUtGgRn9C"
      }
    },
    {
      "cell_type": "markdown",
      "source": [
        "En este último bloque se aplican técnicas de preprocesamiento y reducción de dimensionalidad. Primero, los datos se normalizan con StandardScaler, lo que estandariza cada característica restando la media y dividiendo entre la desviación estándar. Esto asegura que todas las variables estén en la misma escala y evita que unas dominen sobre otras en los análisis posteriores.\n",
        "\n",
        "A continuación, se utiliza Análisis de Componentes Principales (PCA) para reducir las cuatro características originales a solo dos componentes principales que capturan la mayor parte de la variabilidad del dataset. El resultado se visualiza en un diagrama de dispersión donde los puntos están coloreados por especie, lo que permite observar cómo estas se diferencian en el nuevo espacio reducido. Esta técnica complementa las gráficas anteriores mostrando de manera más clara la separabilidad entre especies."
      ],
      "metadata": {
        "id": "YctvhxqeRqUf"
      }
    },
    {
      "cell_type": "markdown",
      "source": [
        "## 6. Ejercicios Prácticos"
      ],
      "metadata": {
        "id": "ApA4CykBTHvY"
      }
    },
    {
      "cell_type": "code",
      "source": [
        "### Ejercicio 1:\n",
        "# Crea una función que identifique las flores con longitudes de pétalo superiores a 5 cm y analice sus características promedio\n",
        "\n",
        "# %%\n",
        "def analyze_large_petals(df):\n",
        "    large_petals = df[df['petal length (cm)'] > 5]\n",
        "    print(f\"Número de flores con pétalos largos: {len(large_petals)}\")\n",
        "    display(large_petals.groupby('species_name').mean())\n"
      ],
      "metadata": {
        "id": "9AwB1z0lTKkL"
      },
      "execution_count": 7,
      "outputs": []
    },
    {
      "cell_type": "markdown",
      "source": [
        "Explicación:\n",
        "En este ejercicio se define una función llamada analyze_large_petals, cuyo propósito es identificar las flores del dataset Iris que tienen pétalos con una longitud mayor a 5 cm. Para lograrlo, se filtran únicamente las filas del DataFrame que cumplen esa condición y se guardan en la variable large_petals. Posteriormente, se imprime el número total de flores que cumplen con el criterio.\n",
        "\n",
        "Además, la función agrupa esas flores por especie con groupby('species_name') y calcula sus valores promedio (mean()), mostrando un resumen de sus características principales. De esta manera, no solo se identifica cuántas flores presentan pétalos largos, sino también cómo se comportan sus medidas en promedio según la especie, lo que facilita comparar diferencias morfológicas entre ellas.\n",
        "\n"
      ],
      "metadata": {
        "id": "u2CJ_CpETMnK"
      }
    },
    {
      "cell_type": "code",
      "source": [
        "### Ejercicio 2:\n",
        "# Implementa un modelo de clustering (K-Means) para agrupar las flores y compara con las especies reales\n",
        "\n",
        "# %%\n",
        "from sklearn.cluster import KMeans\n",
        "from sklearn.metrics import confusion_matrix, classification_report\n",
        "\n",
        "# Aplicar K-Means\n",
        "kmeans = KMeans(n_clusters=3, random_state=42)\n",
        "clusters = kmeans.fit_predict(X_scaled)\n",
        "\n",
        "# Comparar clusters con especies reales\n",
        "df['cluster'] = clusters\n",
        "\n",
        "# Matriz de confusión\n",
        "conf_matrix = confusion_matrix(df['species'], df['cluster'])\n",
        "print(\"Matriz de Confusión:\")\n",
        "print(conf_matrix)\n",
        "\n",
        "# Reporte de clasificación\n",
        "print(\"\\nReporte de Clasificación:\")\n",
        "print(classification_report(df['species'], df['cluster']))"
      ],
      "metadata": {
        "colab": {
          "base_uri": "https://localhost:8080/",
          "height": 211
        },
        "id": "Sa85jNqwTV4y",
        "outputId": "551bca70-1a75-459e-ac24-da74092843d3"
      },
      "execution_count": 8,
      "outputs": [
        {
          "output_type": "error",
          "ename": "NameError",
          "evalue": "name 'X_scaled' is not defined",
          "traceback": [
            "\u001b[0;31m---------------------------------------------------------------------------\u001b[0m",
            "\u001b[0;31mNameError\u001b[0m                                 Traceback (most recent call last)",
            "\u001b[0;32m/tmp/ipython-input-131434823.py\u001b[0m in \u001b[0;36m<cell line: 0>\u001b[0;34m()\u001b[0m\n\u001b[1;32m      8\u001b[0m \u001b[0;31m# Aplicar K-Means\u001b[0m\u001b[0;34m\u001b[0m\u001b[0;34m\u001b[0m\u001b[0m\n\u001b[1;32m      9\u001b[0m \u001b[0mkmeans\u001b[0m \u001b[0;34m=\u001b[0m \u001b[0mKMeans\u001b[0m\u001b[0;34m(\u001b[0m\u001b[0mn_clusters\u001b[0m\u001b[0;34m=\u001b[0m\u001b[0;36m3\u001b[0m\u001b[0;34m,\u001b[0m \u001b[0mrandom_state\u001b[0m\u001b[0;34m=\u001b[0m\u001b[0;36m42\u001b[0m\u001b[0;34m)\u001b[0m\u001b[0;34m\u001b[0m\u001b[0;34m\u001b[0m\u001b[0m\n\u001b[0;32m---> 10\u001b[0;31m \u001b[0mclusters\u001b[0m \u001b[0;34m=\u001b[0m \u001b[0mkmeans\u001b[0m\u001b[0;34m.\u001b[0m\u001b[0mfit_predict\u001b[0m\u001b[0;34m(\u001b[0m\u001b[0mX_scaled\u001b[0m\u001b[0;34m)\u001b[0m\u001b[0;34m\u001b[0m\u001b[0;34m\u001b[0m\u001b[0m\n\u001b[0m\u001b[1;32m     11\u001b[0m \u001b[0;34m\u001b[0m\u001b[0m\n\u001b[1;32m     12\u001b[0m \u001b[0;31m# Comparar clusters con especies reales\u001b[0m\u001b[0;34m\u001b[0m\u001b[0;34m\u001b[0m\u001b[0m\n",
            "\u001b[0;31mNameError\u001b[0m: name 'X_scaled' is not defined"
          ]
        }
      ]
    },
    {
      "cell_type": "markdown",
      "source": [
        "Explicació:\n",
        "\n",
        "En este ejercicio se implementa un modelo de clustering no supervisado utilizando el algoritmo K-Means, con el objetivo de agrupar las flores del dataset en tres clústeres, que corresponden al número de especies existentes. El modelo se entrena con los datos previamente normalizados (X_scaled) y asigna a cada flor un número de clúster, el cual se añade como una nueva columna al DataFrame.\n",
        "\n",
        "Posteriormente, se comparan los clústeres generados con las especies reales del dataset a través de una matriz de confusión y un reporte de clasificación. Esto permite evaluar qué tan bien el algoritmo no supervisado logra aproximarse a las etiquetas verdaderas. Aunque K-Means no utiliza información previa sobre las especies, en el caso del dataset Iris suele conseguir una separación bastante buena, mostrando la utilidad de esta técnica para descubrir patrones ocultos en los datos."
      ],
      "metadata": {
        "id": "WV8rHBvjTksy"
      }
    },
    {
      "cell_type": "code",
      "source": [
        "### Ejercicio 3:\n",
        "# Crea un modelo de regresión logística para predecir la especie de flor basado en sus características\n",
        "\n",
        "# %%\n",
        "from sklearn.model_selection import train_test_split\n",
        "from sklearn.linear_model import LogisticRegression\n",
        "from sklearn.metrics import accuracy_score\n",
        "\n",
        "# Dividir datos\n",
        "X = df[iris.feature_names]\n",
        "y = df['species']\n",
        "X_train, X_test, y_train, y_test = train_test_split(X, y, test_size=0.3, random_state=42)\n",
        "\n",
        "# Entrenar modelo\n",
        "logreg = LogisticRegression(max_iter=200)\n",
        "logreg.fit(X_train, y_train)\n",
        "\n",
        "# Evaluar\n",
        "y_pred = logreg.predict(X_test)\n",
        "accuracy = accuracy_score(y_test, y_pred)\n",
        "print(f\"Precisión del modelo: {accuracy:.2f}\")\n",
        "\n",
        "# Mostrar coeficientes\n",
        "coef_df = pd.DataFrame(logreg.coef_, columns=iris.feature_names, index=iris.target_names)\n",
        "print(\"\\nCoeficientes del modelo:\")\n",
        "display(coef_df)"
      ],
      "metadata": {
        "id": "pAek8mZ5TqP9"
      },
      "execution_count": null,
      "outputs": []
    },
    {
      "cell_type": "markdown",
      "source": [
        "Explicación:\n",
        "\n",
        "En este último ejercicio se construye un modelo supervisado de clasificación utilizando Regresión Logística. Primero, los datos se dividen en conjunto de entrenamiento y prueba con train_test_split, de manera que el modelo aprende con el 70% de las observaciones y se evalúa con el 30% restante. Luego, el modelo de regresión logística se entrena con las cuatro características de las flores (longitud y anchura de sépalos y pétalos) para predecir la especie correspondiente.\n",
        "\n",
        "Tras el entrenamiento, se evalúa el desempeño del modelo calculando la precisión (accuracy) sobre los datos de prueba, lo cual indica qué porcentaje de predicciones fueron correctas. Finalmente, se muestran los coeficientes de cada variable en relación con cada especie, lo que permite interpretar la influencia de las características en la clasificación. Con ello, se completa un análisis que abarca desde la exploración visual de datos hasta la aplicación de técnicas de aprendizaje automático para la predicción."
      ],
      "metadata": {
        "id": "mILv5rhYTq29"
      }
    }
  ]
}