{
  "nbformat": 4,
  "nbformat_minor": 0,
  "metadata": {
    "colab": {
      "provenance": [],
      "collapsed_sections": [
        "c4aMiGL8pyF-",
        "EE6AEQ9yp2jl"
      ]
    },
    "kernelspec": {
      "name": "python3",
      "display_name": "Python 3"
    },
    "language_info": {
      "name": "python"
    }
  },
  "cells": [
    {
      "cell_type": "markdown",
      "source": [
        "#PROLOG CODIGO"
      ],
      "metadata": {
        "id": "c4aMiGL8pyF-"
      }
    },
    {
      "cell_type": "code",
      "source": [
        "% ================================\n",
        "%  SISTEMA DE PEDIDOS - RESTAURANTE\n",
        "%  (reglas deterministas)\n",
        "% ================================\n",
        "\n",
        "% ---- Hechos de clientes (ejemplo) ----\n",
        "pedido(ana, hamburguesa).\n",
        "pedido(ana, papas).\n",
        "pedido(ana, refresco).\n",
        "\n",
        "pedido(luis, ensalada).\n",
        "pedido(luis, agua).\n",
        "\n",
        "pedido(carla, pizza).\n",
        "pedido(carla, alitas).\n",
        "pedido(carla, cerveza).\n",
        "\n",
        "pedido(mario, hamburguesa).\n",
        "pedido(mario, malteada).\n",
        "\n",
        "edad(ana, 25).\n",
        "edad(luis, 70).\n",
        "edad(carla, 30).\n",
        "edad(mario, 15).\n",
        "\n",
        "% ---- 1) ALERTAS (restricciones fuertes) ----\n",
        "% Clientes menores de 18 no pueden consumir alcohol\n",
        "alerta_producto(cerveza).\n",
        "alerta_producto(vino).\n",
        "\n",
        "tiene(C, P) :- pedido(C, P).\n",
        "\n",
        "detectar_alerta(C, P) :-\n",
        "    alerta_producto(P),\n",
        "    tiene(C, P),\n",
        "    edad(C, E), E < 18, !.   % corte: si hay alerta, se termina\n",
        "\n",
        "% ---- 2) VULNERABILIDAD ----\n",
        "% Clientes mayores de 65 años o con dieta especial\n",
        "vulnerable(C) :- edad(C, E), E >= 65.\n",
        "vulnerable(luis).   % Luis tiene dieta especial\n",
        "\n",
        "% ---- 3) MENÚ Y CLASIFICACIÓN ----\n",
        "combo(clasico, [hamburguesa, papas, refresco]).\n",
        "combo(familiar, [pizza, alitas, refresco]).\n",
        "combo(saludable, [ensalada, agua]).\n",
        "combo(postre, [malteada, papas]).\n",
        "\n",
        "% Contar coincidencias entre pedido y combos\n",
        "puntaje(C, Combo, N) :-\n",
        "    combo(Combo, Lista),\n",
        "    findall(P, (member(P, Lista), tiene(C, P)), A), length(A, N).\n",
        "\n",
        "mejor_combo(C, Combo) :-\n",
        "    findall(N, puntaje(C, _, N), Ns),\n",
        "    Ns \\= [], max_list(Ns, Max),\n",
        "    puntaje(C, Combo, Max).\n",
        "\n",
        "% ---- 4) PLAN ----\n",
        "plan_para(alerta(_), revisar_pedido).\n",
        "plan_para(combo(saludable), descuento_salud).\n",
        "plan_para(combo(clasico), promo_refill).\n",
        "plan_para(combo(familiar), combo_descuento).\n",
        "plan_para(combo(postre), dos_por_uno).\n",
        "\n",
        "ajustar_por_vulnerable(Plan, true, control_nutricional(Plan)).\n",
        "ajustar_por_vulnerable(Plan, false, Plan).\n",
        "\n",
        "% ---- 5) ORQUESTADOR ----\n",
        "evaluar_cliente(C, reporte{\n",
        "    riesgo: Riesgo,\n",
        "    combos: Combos,\n",
        "    plan: PlanAjustado,\n",
        "    notas: Notas\n",
        "}) :-\n",
        "    (   detectar_alerta(C, P) ->\n",
        "        Riesgo = alerta,\n",
        "        Combos = [],\n",
        "        plan_para(alerta(P), Plan),\n",
        "        ajustar_por_vulnerable(Plan, false, PlanAjustado),\n",
        "        Notas = [alerta_producto(P), \"retirar del pedido\"]\n",
        "    ;   Riesgo = normal,\n",
        "        (vulnerable(C) -> Vul = true ; Vul = false),\n",
        "        findall(Co, mejor_combo(C, Co), Combos),\n",
        "        decidir_plan(Combos, Vul, PlanAjustado, Notas)\n",
        "    ).\n",
        "\n",
        "decidir_plan([Co], Vul, PlanAjustado, [combo_unico(Co)]) :-\n",
        "    plan_para(combo(Co), Plan),\n",
        "    ajustar_por_vulnerable(Plan, Vul, PlanAjustado), !.\n",
        "\n",
        "decidir_plan([Co1, Co2 | _], Vul, PlanAjustado, [combo_ambiguo([Co1, Co2])]) :-\n",
        "    % si hay empate, se da un beneficio genérico\n",
        "    Base = regalo_extra,\n",
        "    ajustar_por_vulnerable(Base, Vul, PlanAjustado), !.\n",
        "\n",
        "decidir_plan([], _, sin_datos, [\"no coincide con combos conocidos\"]).\n"
      ],
      "metadata": {
        "id": "bPEqhMkKsYpI"
      },
      "execution_count": null,
      "outputs": []
    },
    {
      "cell_type": "markdown",
      "source": [
        "### Explicación de mi programa en prolog"
      ],
      "metadata": {
        "id": "EE6AEQ9yp2jl"
      }
    },
    {
      "cell_type": "markdown",
      "source": [
        "1. Hechos de clientes"
      ],
      "metadata": {
        "id": "78pkpRwGsdpB"
      }
    },
    {
      "cell_type": "markdown",
      "source": [
        "pedido(ana, hamburguesa).\n",
        "\n",
        "pedido(ana, papas).\n",
        "\n",
        "pedido(ana, refresco).\n",
        "\n",
        "Significa que Ana pidió una hamburguesa, papas y refresco.\n",
        "También se guarda la edad de cada cliente para después tomar decisiones"
      ],
      "metadata": {
        "id": "34fjVwqeskHm"
      }
    },
    {
      "cell_type": "markdown",
      "source": [
        "2. Alertas"
      ],
      "metadata": {
        "id": "HoFKrbfssqRY"
      }
    },
    {
      "cell_type": "markdown",
      "source": [
        "alerta_producto(cerveza).\n",
        "\n",
        "Algunas cosas están prohibidas.\n",
        "\n",
        "y la regla:\n",
        "\n",
        "detectar_alerta(C, P) :-\n",
        "\n",
        "alerta_producto(P),\n",
        "\n",
        "tiene(C, P),\n",
        "\n",
        " edad(C, E), E < 18, !.\n",
        "\n",
        " Quiere decir: si un menor pide cerveza o vino → se activa una alerta y se corta el flujo.\n",
        "En la vida real sería como que el sistema dice: “No se puede vender alcohol a este cliente”."
      ],
      "metadata": {
        "id": "f7bogVxxsw6M"
      }
    },
    {
      "cell_type": "markdown",
      "source": [
        "3. Vulnerabilidad"
      ],
      "metadata": {
        "id": "a8k1eOWdtBea"
      }
    },
    {
      "cell_type": "markdown",
      "source": [
        "Se considera vulnerable:\n",
        "\n",
        "* Una persona mayor de 65 años.\n",
        "\n",
        "* O alguien con dieta especial.\n",
        "\n",
        "Esto afecta el plan final (ejemplo: darles un control nutricional extra)."
      ],
      "metadata": {
        "id": "e-dI0rXetCvg"
      }
    },
    {
      "cell_type": "markdown",
      "source": [
        "4. Menú y combos"
      ],
      "metadata": {
        "id": "sz1J-hUNtP9J"
      }
    },
    {
      "cell_type": "markdown",
      "source": [
        "Aquí se definen los combos:\n",
        "\n",
        "combo(clasico, [hamburguesa, papas, refresco]).\n",
        "\n",
        "combo(familiar, [pizza, alitas, refresco]).\n",
        "\n",
        "combo(saludable, [ensalada, agua]).\n",
        "\n",
        "El sistema compara lo que pidió el cliente con los combos para ver con cuál coincide más.\n",
        "Ejemplo: si alguien pidió hamburguesa, papas y refresco, seguramente está pidiendo el combo clásico."
      ],
      "metadata": {
        "id": "BabX-p8ctQaj"
      }
    },
    {
      "cell_type": "markdown",
      "source": [
        "5. Planes"
      ],
      "metadata": {
        "id": "sLuvJw7LtVeI"
      }
    },
    {
      "cell_type": "markdown",
      "source": [
        "Dependiendo del combo o situación, se asigna un beneficio:\n",
        "\n",
        "* Combo clásico → promo de refill.\n",
        "\n",
        "* Combo saludable → descuento salud.\n",
        "\n",
        "* Si hay alerta → revisar el pedido.\n",
        "\n",
        "Además, si el cliente es vulnerable, se ajusta con un plan especial (ejemplo: control nutricional)."
      ],
      "metadata": {
        "id": "Mjj9ktTwtV6s"
      }
    },
    {
      "cell_type": "markdown",
      "source": [
        "6. Orquestador"
      ],
      "metadata": {
        "id": "qs1izhPJteBi"
      }
    },
    {
      "cell_type": "markdown",
      "source": [
        "La regla principal es:\n",
        "\n",
        "evaluar_cliente(C, reporte{...})\n",
        "\n",
        "Aquí se junta todo:\n",
        "\n",
        "1. Si hay alerta → se bloquea el pedido.\n",
        "\n",
        "2. Si no, se revisa la vulnerabilidad y los combos.\n",
        "\n",
        "3. Se decide el plan final (promoción, descuento o advertencia).\n",
        "\n",
        "4. Se genera un reporte con:\n",
        "\n",
        "* Riesgo (alerta o normal)\n",
        "\n",
        "* Combo detectado\n",
        "\n",
        "* Plan (qué hacer)\n",
        "\n",
        "* Notas adicionales"
      ],
      "metadata": {
        "id": "I_hXzvGUtfv7"
      }
    },
    {
      "cell_type": "markdown",
      "source": [
        "En pocas palabras: este código funciona como un cajero inteligente de restaurante que no solo registra lo que pide el cliente, sino que también detecta promociones, prohíbe cosas indebidas (como alcohol a menores) y ajusta beneficios según la edad o condiciones."
      ],
      "metadata": {
        "id": "Hcwdec2ltqLg"
      }
    }
  ]
}