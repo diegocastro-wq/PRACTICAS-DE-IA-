{
  "nbformat": 4,
  "nbformat_minor": 0,
  "metadata": {
    "colab": {
      "provenance": [],
      "collapsed_sections": [
        "hRMOb0sIfDdB",
        "G81MprnJbYg7",
        "uWDosDH3ciQn",
        "Mla9oIOjgAT3",
        "RZLRAwfkR7wJ",
        "PlYcTeopSbns",
        "5yB2FGztS1TB",
        "h3U5k6WVTDKi",
        "cuHRJgmPTcE3",
        "XUOodw0ETpz7",
        "guC129KLTzlT",
        "07hyDtrgT83c"
      ]
    },
    "kernelspec": {
      "name": "python3",
      "display_name": "Python 3"
    },
    "language_info": {
      "name": "python"
    }
  },
  "cells": [
    {
      "cell_type": "markdown",
      "source": [
        "### PRIMERA PRACTICA"
      ],
      "metadata": {
        "id": "hRMOb0sIfDdB"
      }
    },
    {
      "cell_type": "code",
      "source": [
        "print (\"Hola papu\")"
      ],
      "metadata": {
        "colab": {
          "base_uri": "https://localhost:8080/"
        },
        "id": "PuPXlu27fIuc",
        "outputId": "bf452764-621a-45b3-dd2e-d9d732c74abf"
      },
      "execution_count": null,
      "outputs": [
        {
          "output_type": "stream",
          "name": "stdout",
          "text": [
            "Hola papu\n"
          ]
        }
      ]
    },
    {
      "cell_type": "markdown",
      "source": [
        "--------------------------------------------------------------------------------"
      ],
      "metadata": {
        "id": "LmsHDfnohU20"
      }
    },
    {
      "cell_type": "markdown",
      "source": [],
      "metadata": {
        "id": "vecUo3fcrqgM"
      }
    },
    {
      "cell_type": "markdown",
      "source": [
        "### MI BIBLIOGRAFÍA"
      ],
      "metadata": {
        "id": "gnri2qqwM_Pi"
      }
    },
    {
      "cell_type": "markdown",
      "source": [
        "Me llamo Digeo Castro Jurado, Tengo 21 años, me gustan las mujeres y me gustra minecraft\n",
        "\n",
        "1. Tengo dos gatos 🐈\n",
        "2. Tengo tatuajes\n",
        "3. Me gusta el ramen\n",
        "4. Me gusta el equipo del Barcelona\n",
        "5. Me gusta los videojuegos\n",
        "\n",
        "__A veces me pongo a reflexionar sobre la vida en el baño, ya que a veces dudo de mi existencia. ¿Por qué vivimos?, ¿Para qué nacemos?, ¿Para que nací?, ¿Cuál es mi importancia en esta sociedad?__\n",
        "\n",
        "Una de mis frases favoritas es:\n",
        "\n",
        "### _MEJOR A DENTRO QUE A FUERA_\n",
        "\n",
        "Esta frase me la dijo mi papá que desaparecio cuando fue por cigarros, sin duda un gran padre, de el aprendi muchas cosas como que debo de ser el hombre de la casa, respetar a las mujeres y siempre consolaras ya que yo soy un rogon. ese tiempo pero pues no paso nada, ni di mi primer beso. Fue durantre la preparatoria cuando paso todo, conoci un amor (me engaño) di mi primer beso y conoci a varias amistades muy buenas, pero como todo inicio bonito debe tener una historia debe tener un final horrible, ya que llego la pademia y mi vida se arruino ya que me dio ansiedad al estar encerrado durante mas de 3 años ya que tampoco pase el examen de admisión y pues durante mucho tiempo no sali a casa pero ya que poco a poco sali y llegar y así fue como llegue a la universidad, donde despues de varios intentos en querer entrar a la universidad en un momento elegí el CUI por amigos y familiares despues de todo lo que paso en mi vida ya es momento de seguir adelante en esta nueva etapa de mi vida.\n",
        "\n",
        "Mi canción favorita es: [Mira este video en YouTube](https://www.youtube.com/watch?v=HLetFEpgPgY)\n",
        "\n",
        "\n",
        "| Tipo       | Ejemplo de Pokémon       | Ventaja contra                | Débil contra                   |\n",
        "|------------|--------------------------|--------------------------------|--------------------------------|\n",
        "| Normal     | Snorlax                  | Ninguno en especial            | Lucha                          |\n",
        "| Fuego      | Charizard                | Planta, Bicho, Hielo, Acero    | Agua, Tierra, Roca             |\n",
        "| Agua       | Blastoise                | Fuego, Tierra, Roca            | Planta, Eléctrico              |\n",
        "| Planta     | Venusaur                 | Agua, Tierra, Roca             | Fuego, Hielo, Veneno, Volador, Bicho |\n",
        "| Eléctrico  | Pikachu                  | Agua, Volador                  | Tierra                         |\n",
        "| Hielo      | Articuno                 | Planta, Tierra, Volador, Dragón| Fuego, Lucha, Roca, Acero      |\n",
        "| Lucha      | Machamp                  | Normal, Hielo, Roca, Siniestro, Acero | Volador, Psíquico, Hada   |\n",
        "| Veneno     | Gengar                   | Planta, Hada                   | Tierra, Psíquico               |\n",
        "| Tierra     | Garchomp                 | Fuego, Eléctrico, Veneno, Roca, Acero | Agua, Planta, Hielo        |\n",
        "| Volador    | Pidgeot                  | Planta, Lucha, Bicho           | Eléctrico, Hielo, Roca         |\n",
        "| Psíquico   | Mewtwo                   | Lucha, Veneno                  | Bicho, Fantasma, Siniestro     |\n",
        "| Bicho      | Scyther                  | Planta, Psíquico, Siniestro    | Fuego, Volador, Roca           |\n",
        "| Roca       | Onix                     | Fuego, Hielo, Volador, Bicho   | Agua, Planta, Lucha, Tierra, Acero |\n",
        "| Fantasma   | Gengar                   | Psíquico, Fantasma             | Fantasma, Siniestro            |\n",
        "| Dragón     | Dragonite                | Dragón                         | Hielo, Dragón, Hada            |\n",
        "| Siniestro  | Umbreon                  | Psíquico, Fantasma             | Lucha, Bicho, Hada             |\n",
        "| Acero      | Metagross                | Hielo, Roca, Hada              | Fuego, Lucha, Tierra           |\n",
        "| Hada       | Sylveon                  | Lucha, Dragón, Siniestro       | Veneno, Acero                  |\n",
        "\n",
        "<span style=\"color:blue\">\n",
        "Me gusta mucho los videojuegos actualmente aunque juego solo dos que son Rainbow Six y Hollow Knight: Silksong, me gusta jugar mucho videojuegos, mis juegos favoritos son Minecraft, Ark, Hollow Knight, Valorant entre otros. Sin duda soy un friki de los videojuegos ya que me agrada demasiado.\n",
        "</span>\n",
        "\n",
        "\n",
        "- [ ] Tarea terminada\n",
        "- [x] Tarea pendiente\n",
        "\n",
        "![Logo de GitHub](https://upload.wikimedia.org/wikipedia/commons/thumb/e/e5/Toluca_a_los_pies_del_nevado.jpg/1920px-Toluca_a_los_pies_del_nevado.jpg)\n",
        "\n",
        "\n",
        "\n",
        "*itálica*  _itálica_\n",
        "**negrita**  __negrita__\n",
        "~~tachado~~\n",
        "`código_en_línea`\n",
        "> “Cita breve en línea”"
      ],
      "metadata": {
        "id": "ltUs04E_rvag"
      }
    },
    {
      "cell_type": "markdown",
      "source": [
        "# CODIGOS BASICOS DE PYTHOM  "
      ],
      "metadata": {
        "id": "9_rlNXrKIsEI"
      }
    },
    {
      "cell_type": "markdown",
      "source": [
        "### USO DE LIBRERIAS EN PYTHON\n"
      ],
      "metadata": {
        "id": "G81MprnJbYg7"
      }
    },
    {
      "cell_type": "code",
      "source": [
        "import math\n",
        "import random\n",
        "from datetime import date\n",
        "\n",
        "raiz_144 = math.sqrt(144)          # raíz cuadrada\n",
        "\n",
        "print(\"Raíz de 144:\", raiz_144)"
      ],
      "metadata": {
        "colab": {
          "base_uri": "https://localhost:8080/"
        },
        "id": "V-igwq8gZoax",
        "outputId": "a2d2b2e7-c6f1-4106-831f-76101ca44bdb"
      },
      "execution_count": null,
      "outputs": [
        {
          "output_type": "stream",
          "name": "stdout",
          "text": [
            "Raíz de 144: 12.0\n"
          ]
        }
      ]
    },
    {
      "cell_type": "markdown",
      "source": [
        "EJEMPLO Y EXPLICACIÓN"
      ],
      "metadata": {
        "id": "aNJl99bSljsP"
      }
    },
    {
      "cell_type": "code",
      "source": [
        "import math\n",
        "import random\n",
        "from datetime import date\n",
        "\n",
        "# 1. FUNCIONES MATEMÁTICAS BÁSICAS\n",
        "numero = 25\n",
        "raiz_cuadrada = math.sqrt(numero)          # Raíz cuadrada\n",
        "potencia = math.pow(5, 3)                  # 5 elevado a 3\n",
        "logaritmo = math.log(100)                  # Logaritmo natural\n",
        "\n",
        "print(f\"Raíz cuadrada de {numero}: {raiz_cuadrada}\")\n",
        "print(f\"5 elevado a 3: {potencia}\")\n",
        "print(f\"Logaritmo natural de 100: {logaritmo:.2f}\")"
      ],
      "metadata": {
        "colab": {
          "base_uri": "https://localhost:8080/"
        },
        "id": "fNVSx8M-iTEe",
        "outputId": "0ca589cb-d7e5-465f-b762-02780329c03a"
      },
      "execution_count": null,
      "outputs": [
        {
          "output_type": "stream",
          "name": "stdout",
          "text": [
            "Raíz cuadrada de 25: 5.0\n",
            "5 elevado a 3: 125.0\n",
            "Logaritmo natural de 100: 4.61\n"
          ]
        }
      ]
    },
    {
      "cell_type": "markdown",
      "source": [
        "Importamos la librería math para tener herramientas matemáticas\n",
        "\n",
        "Usamos math.sqrt(144) para calcular la raíz cuadrada de 144\n",
        "\n",
        "Guardamos el resultado en la variable raiz_144\n",
        "\n",
        "Imprimimos el resultado mostrando \"Raíz de 144: 12.0\"\n",
        "\n",
        "En esencia: Python ya trae la fórmula de la raíz cuadrada programada, nosotros solo la usamos cuando la necesitamos."
      ],
      "metadata": {
        "id": "pUu8KtRIiS0l"
      }
    },
    {
      "cell_type": "markdown",
      "source": [
        "### VARIABLES Y TIPOS DE DATOS\n"
      ],
      "metadata": {
        "id": "uWDosDH3ciQn"
      }
    },
    {
      "cell_type": "code",
      "source": [
        "nombre = \"María\"        # str\n",
        "edad = 17               # int\n",
        "altura_m = 1.65         # float\n",
        "estudiante = True       # bool\n",
        "materias = [\"Mate\", \"Fis\", \"Prog\"]  # list\n",
        "coordenadas = (19.4, -99.1)         # tuple\n",
        "unicos = {1, 2, 2, 3}               # set (sin duplicados)\n",
        "perfil = {\"usuario\": \"maria17\", \"pais\": \"MX\"}  # dict\n",
        "\n",
        "print(nombre, type(nombre))\n",
        "print(edad, type(edad))\n",
        "print(altura_m, type(altura_m))\n",
        "print(estudiante, type(estudiante))\n",
        "print(materias, type(materias))\n",
        "print(coordenadas, type(coordenadas))\n",
        "print(unicos, type(unicos))\n",
        "print(perfil, type(perfil))"
      ],
      "metadata": {
        "colab": {
          "base_uri": "https://localhost:8080/"
        },
        "id": "aXfN_jRtcpz8",
        "outputId": "671f1419-c049-461a-9c12-6709458d18ba"
      },
      "execution_count": null,
      "outputs": [
        {
          "output_type": "stream",
          "name": "stdout",
          "text": [
            "María <class 'str'>\n",
            "17 <class 'int'>\n",
            "1.65 <class 'float'>\n",
            "True <class 'bool'>\n",
            "['Mate', 'Fis', 'Prog'] <class 'list'>\n",
            "(19.4, -99.1) <class 'tuple'>\n",
            "{1, 2, 3} <class 'set'>\n",
            "{'usuario': 'maria17', 'pais': 'MX'} <class 'dict'>\n"
          ]
        }
      ]
    },
    {
      "cell_type": "markdown",
      "source": [
        "EJEMPLO Y EXPLICACIÓN"
      ],
      "metadata": {
        "id": "50pc5z6zll5R"
      }
    },
    {
      "cell_type": "code",
      "source": [
        "# Diferentes tipos de datos en Python\n",
        "producto = \"Laptop\"            # Texto (str)\n",
        "precio = 899.99                # Decimal (float)\n",
        "stock = 15                     # Entero (int)\n",
        "disponible = True              # Booleano (bool)\n",
        "caracteristicas = [\"8GB RAM\", \"256GB SSD\", \"Intel i5\"]  # Lista\n",
        "\n",
        "print(\"Producto:\", producto, type(producto))\n",
        "print(\"Precio:\", precio, type(precio))\n",
        "print(\"En stock:\", stock, type(stock))\n",
        "print(\"Disponible:\", disponible, type(disponible))\n",
        "print(\"Características:\", caracteristicas, type(caracteristicas))"
      ],
      "metadata": {
        "id": "KcQS7FxCkDLB"
      },
      "execution_count": null,
      "outputs": []
    },
    {
      "cell_type": "markdown",
      "source": [
        "thon tiene varios tipos de datos para diferentes usos:\n",
        "\n",
        "str → Texto y palabras\n",
        "\n",
        "int → Números enteros\n",
        "\n",
        "float → Números con decimales\n",
        "\n",
        "bool → Valores True/False (verdadero/falso)\n",
        "\n",
        "list → Listas de elementos ordenados"
      ],
      "metadata": {
        "id": "z9g884jWkEKK"
      }
    },
    {
      "cell_type": "markdown",
      "source": [
        "### ENTRADA/SALIDA Y CONVERSIONES"
      ],
      "metadata": {
        "id": "Mla9oIOjgAT3"
      }
    },
    {
      "cell_type": "code",
      "source": [
        "# Ejemplo sin input (simulamos datos)\n",
        "a_texto = \"12.5\"\n",
        "b_texto = \"3\"\n",
        "\n",
        "a = float(a_texto)  # 12.5\n",
        "b = int(b_texto)    # 3\n",
        "\n",
        "suma = a + b\n",
        "division = a / b\n",
        "\n",
        "print(f\"a={a} (float), b={b} (int) -> suma={suma}, división={division:.2f}\")"
      ],
      "metadata": {
        "colab": {
          "base_uri": "https://localhost:8080/"
        },
        "id": "BmqU9IljgGYP",
        "outputId": "ef81ad50-1735-41ac-91d3-2b313e3bf748"
      },
      "execution_count": null,
      "outputs": [
        {
          "output_type": "stream",
          "name": "stdout",
          "text": [
            "a=12.5 (float), b=3 (int) -> suma=15.5, división=4.17\n"
          ]
        }
      ]
    },
    {
      "cell_type": "markdown",
      "source": [
        "EJEMPLO Y EXPLICACIÓN"
      ],
      "metadata": {
        "id": "IMwdu9VXluXO"
      }
    },
    {
      "cell_type": "code",
      "source": [
        "# Convertimos texto a números y hacemos operaciones\n",
        "precio_texto = \"99.90\"\n",
        "cantidad_texto = \"2\"\n",
        "\n",
        "precio = float(precio_texto)    # Convertir a decimal\n",
        "cantidad = int(cantidad_texto)  # Convertir a entero\n",
        "\n",
        "total = precio * cantidad\n",
        "descuento = total * 0.10\n",
        "\n",
        "print(f\"Precio: ${precio}\")\n",
        "print(f\"Cantidad: {cantidad}\")\n",
        "print(f\"Total: ${total:.2f}\")\n",
        "print(f\"Descuento (10%): ${descuento:.2f}\")"
      ],
      "metadata": {
        "id": "olbyR1RckN3F"
      },
      "execution_count": null,
      "outputs": []
    },
    {
      "cell_type": "markdown",
      "source": [
        "La conversión de tipos nos permite:\n",
        "\n",
        "float(texto) → Convierte texto a número decimal\n",
        "\n",
        "int(texto) → Convierte texto a número entero\n",
        "\n",
        "str(numero) → Convierte número a texto\n",
        "\n",
        "¿Por qué es útil?\n",
        "Porque los datos que vienen de archivos o usuarios siempre son texto, pero para hacer operaciones matemáticas necesitamos convertirlos a números."
      ],
      "metadata": {
        "id": "MBt2i1HNkjqX"
      }
    },
    {
      "cell_type": "markdown",
      "source": [
        "### OPERACIONES Y EXPRESIONES"
      ],
      "metadata": {
        "id": "nxGwoQWrROfD"
      }
    },
    {
      "cell_type": "code",
      "source": [
        "print(\"2 + 3 * 4 =\", 2 + 3 * 4)           # 14\n",
        "print(\"(2 + 3) * 4 =\", (2 + 3) * 4)       # 20\n",
        "print(\"7 // 3 =\", 7 // 3, \" 7 % 3 =\", 7 % 3)  # 2 y 1\n",
        "print(\"2 ** 3 ** 2 =\", 2 ** 3 ** 2)       # 2 ** (3**2) = 2 ** 9 = 512\n",
        "\n",
        "# Lógicos: aprobar si promedio>=7 y asistencia>=0.8\n",
        "promedio, asistencia = 7.2, 0.85\n",
        "aprueba = (promedio >= 7) and (asistencia >= 0.8)\n",
        "print(\"¿Aprueba?\", aprueba)"
      ],
      "metadata": {
        "colab": {
          "base_uri": "https://localhost:8080/"
        },
        "id": "_VCm3q_URSpC",
        "outputId": "19f02ec3-f4b0-43e2-ff2f-a5213b6193af"
      },
      "execution_count": null,
      "outputs": [
        {
          "output_type": "stream",
          "name": "stdout",
          "text": [
            "2 + 3 * 4 = 14\n",
            "(2 + 3) * 4 = 20\n",
            "7 // 3 = 2  7 % 3 = 1\n",
            "2 ** 3 ** 2 = 512\n",
            "¿Aprueba? True\n"
          ]
        }
      ]
    },
    {
      "cell_type": "markdown",
      "source": [
        "EJEMPLO Y EXPLICACIÓN"
      ],
      "metadata": {
        "id": "zEg4fxZ8lsP_"
      }
    },
    {
      "cell_type": "code",
      "source": [
        "# Operaciones matemáticas y lógicas\n",
        "print(\"10 - 2 * 3 =\", 10 - 2 * 3)           # 10 - 6 = 4\n",
        "print(\"(10 - 2) * 3 =\", (10 - 2) * 3)       # 8 * 3 = 24\n",
        "print(\"15 // 4 =\", 15 // 4, \" 15 % 4 =\", 15 % 4)  # 3 y 3\n",
        "print(\"3 ** 2 ** 2 =\", 3 ** 2 ** 2)         # 3 ** (2**2) = 3 ** 4 = 81\n",
        "\n",
        "# Lógicos: acceso si es mayor de edad y tiene ticket\n",
        "edad = 18\n",
        "tiene_ticket = True\n",
        "acceso_permitido = (edad >= 18) and tiene_ticket\n",
        "print(\"¿Acceso permitido?\", acceso_permitido)"
      ],
      "metadata": {
        "id": "cCv8TXtCkw_6"
      },
      "execution_count": null,
      "outputs": []
    },
    {
      "cell_type": "markdown",
      "source": [
        "* Multiplicación → Tiene prioridad sobre + y -\n",
        "\n",
        "() Paréntesis → Cambian el orden de las operaciones\n",
        "\n",
        "// División entera → Resultado sin decimales\n",
        "\n",
        "% Módulo → Residuo de una división\n",
        "\n",
        "** Potencia → Se calcula de derecha a izquierda\n",
        "\n",
        "and Y lógico → Ambas condiciones deben ser True\n",
        "\n",
        "Regla clave: Python sigue el orden matemático: paréntesis → potencias → multiplicación/división → suma/resta.\n"
      ],
      "metadata": {
        "id": "4lAc2ygYkxm9"
      }
    },
    {
      "cell_type": "markdown",
      "source": [
        "### CADENAS (STRINGS)"
      ],
      "metadata": {
        "id": "RZLRAwfkR7wJ"
      }
    },
    {
      "cell_type": "code",
      "source": [
        "# Limpieza y formateo\n",
        "s = \"   Python ES Genial  \"\n",
        "limpia = s.strip().lower().replace(\"genial\", \"fantástico\")\n",
        "palabras = limpia.split()\n",
        "\n",
        "print(\"Original:\", repr(s))\n",
        "print(\"Limpia:\", limpia)\n",
        "print(\"Palabras:\", palabras)\n",
        "\n",
        "# Pequeña utilidad: detectar palíndromos (ignorando espacios y mayúsculas)\n",
        "def es_palindromo(texto: str) -> bool:\n",
        "    t = \"\".join(ch.lower() for ch in texto if ch.isalnum())\n",
        "    return t == t[::-1]\n",
        "\n",
        "print(\"¿Anita lava la tina es palíndromo?\", es_palindromo(\"Anita lava la tina\"))\n",
        "print(\"¿Hola mundo es palíndromo?\", es_palindromo(\"Hola mundo\"))"
      ],
      "metadata": {
        "colab": {
          "base_uri": "https://localhost:8080/"
        },
        "id": "Y_2z0n1tR_tB",
        "outputId": "28d1c5a4-8668-4c92-9aa6-296105c65a4d"
      },
      "execution_count": null,
      "outputs": [
        {
          "output_type": "stream",
          "name": "stdout",
          "text": [
            "Original: '   Python ES Genial  '\n",
            "Limpia: python es fantástico\n",
            "Palabras: ['python', 'es', 'fantástico']\n",
            "¿Anita lava la tina es palíndromo? True\n",
            "¿Hola mundo es palíndromo? False\n"
          ]
        }
      ]
    },
    {
      "cell_type": "markdown",
      "source": [
        "EJEMPLO Y EXPLICACIÓN"
      ],
      "metadata": {
        "id": "YFUfAstal43M"
      }
    },
    {
      "cell_type": "code",
      "source": [
        "# Limpieza y formateo de texto\n",
        "texto_original = \"   Hola MUNDO de Python  \"\n",
        "texto_limpio = texto_original.strip().lower().replace(\"python\", \"programación\")\n",
        "palabras = texto_limpio.split()\n",
        "\n",
        "print(\"Original:\", repr(texto_original))\n",
        "print(\"Limpio:\", texto_limpio)\n",
        "print(\"Palabras:\", palabras)\n",
        "\n",
        "# Función para verificar si una palabra es palíndromo\n",
        "def es_palindromo(palabra: str) -> bool:\n",
        "    palabra_limpia = palabra.lower().replace(\" \", \"\")\n",
        "    return palabra_limpia == palabra_limpia[::-1]\n",
        "\n",
        "print(\"¿'reconocer' es palíndromo?\", es_palindromo(\"reconocer\"))\n",
        "print(\"¿'casa' es palíndromo?\", es_palindromo(\"casa\"))"
      ],
      "metadata": {
        "colab": {
          "base_uri": "https://localhost:8080/"
        },
        "id": "0EKXPDLllAeN",
        "outputId": "e3cc21aa-44f7-4834-bfbf-f13ef1b7cb67"
      },
      "execution_count": null,
      "outputs": [
        {
          "output_type": "stream",
          "name": "stdout",
          "text": [
            "Original: '   Hola MUNDO de Python  '\n",
            "Limpio: hola mundo de programación\n",
            "Palabras: ['hola', 'mundo', 'de', 'programación']\n",
            "¿'reconocer' es palíndromo? True\n",
            "¿'casa' es palíndromo? False\n"
          ]
        }
      ]
    },
    {
      "cell_type": "markdown",
      "source": [
        "Métodos útiles para texto:\n",
        "\n",
        "strip() → Elimina espacios al inicio y final\n",
        "\n",
        "lower() → Convierte todo a minúsculas\n",
        "\n",
        "replace() → Cambia una palabra por otra\n",
        "\n",
        "split() → Divide el texto en palabras\n",
        "\n",
        "[::-1] → Invierte el texto (truco con slices)\n",
        "\n",
        "Palíndromo: palabra que se lee igual al derecho y al revés (ej: \"reconocer\", \"ana\").\n",
        "\n",
        "¿Cómo funciona? Limpiamos el texto, lo invertimos y comparamos si son iguales."
      ],
      "metadata": {
        "id": "hsrQU6AZlCpX"
      }
    },
    {
      "cell_type": "markdown",
      "source": [
        "### CONTROL DE FLUJO: if, for, while"
      ],
      "metadata": {
        "id": "PlYcTeopSbns"
      }
    },
    {
      "cell_type": "code",
      "source": [
        "# if + for: suma de cuadrados del 1 al 5\n",
        "suma_cuad = 0\n",
        "for n in range(1, 6):\n",
        "    cuadrado = n * n\n",
        "    if cuadrado % 2 == 0:\n",
        "        pass  # no hacemos nada especial; es solo de ejemplo\n",
        "    suma_cuad += cuadrado\n",
        "print(\"Suma de cuadrados 1..5 =\", suma_cuad)\n",
        "\n",
        "# while: generar primeros 8 Fibonacci\n",
        "fib = [0, 1]\n",
        "while len(fib) < 8:\n",
        "    fib.append(fib[-1] + fib[-2])\n",
        "print(\"Fibonacci (8):\", fib)"
      ],
      "metadata": {
        "colab": {
          "base_uri": "https://localhost:8080/"
        },
        "id": "IbglIxr_SlbH",
        "outputId": "3c826719-0624-411e-99ad-b4808dcceb28"
      },
      "execution_count": null,
      "outputs": [
        {
          "output_type": "stream",
          "name": "stdout",
          "text": [
            "Suma de cuadrados 1..5 = 55\n",
            "Fibonacci (8): [0, 1, 1, 2, 3, 5, 8, 13]\n"
          ]
        }
      ]
    },
    {
      "cell_type": "markdown",
      "source": [
        "EJEMPLO Y EXPLICACIÓN"
      ],
      "metadata": {
        "id": "x6eJNvLsl6nS"
      }
    },
    {
      "cell_type": "code",
      "source": [
        "# Suma de números pares del 1 al 10\n",
        "suma_pares = 0\n",
        "for numero in range(1, 11):\n",
        "    if numero % 2 == 0:  # Si el número es par\n",
        "        suma_pares += numero\n",
        "print(\"Suma de números pares del 1 al 10 =\", suma_pares)\n",
        "\n",
        "# Generar números del 1 al 5 con while\n",
        "contador = 1\n",
        "numeros = []\n",
        "while contador <= 5:\n",
        "    numeros.append(contador)\n",
        "    contador += 1\n",
        "print(\"Números del 1 al 5:\", numeros)"
      ],
      "metadata": {
        "colab": {
          "base_uri": "https://localhost:8080/"
        },
        "id": "1OvcL8TTlEP0",
        "outputId": "5b9f21d7-fd04-400d-9e18-8dde3738b485"
      },
      "execution_count": null,
      "outputs": [
        {
          "output_type": "stream",
          "name": "stdout",
          "text": [
            "Suma de números pares del 1 al 10 = 30\n",
            "Números del 1 al 5: [1, 2, 3, 4, 5]\n"
          ]
        }
      ]
    },
    {
      "cell_type": "markdown",
      "source": [
        "For: Se usa cuando sabemos cuántas veces repetir\n",
        "\n",
        "range(1, 11) → genera números del 1 al 10\n",
        "\n",
        "if numero % 2 == 0 → verifica si es par\n",
        "\n",
        "While: Se usa cuando no sabemos cuántas veces repetir\n",
        "\n",
        "contador <= 5 → condición para seguir repitiendo\n",
        "\n",
        "contador += 1 → aumenta el contador en cada ciclo\n",
        "\n",
        "Diferencia clave:\n",
        "\n",
        "For → Para recorrer listas o rangos conocidos\n",
        "\n",
        "While → Para repetir mientras una condición sea verdadera"
      ],
      "metadata": {
        "id": "3cDDYxA7lRFD"
      }
    },
    {
      "cell_type": "markdown",
      "source": [
        "### COLECCIONES: LISTAS, TUPLAS, CONJUNTOS, DIRECCIONARIOS"
      ],
      "metadata": {
        "id": "5yB2FGztS1TB"
      }
    },
    {
      "cell_type": "code",
      "source": [
        "# Lista\n",
        "compras = [\"pan\", \"leche\", \"huevo\", \"arroz\"]\n",
        "compras.append(\"manzana\")\n",
        "compras.remove(\"pan\")\n",
        "compras.sort()\n",
        "print(\"Lista compras:\", compras, \" ¿leche?\", \"leche\" in compras)\n",
        "\n",
        "# Tupla\n",
        "punto = (3, 4)\n",
        "print(\"Tupla punto:\", punto)\n",
        "\n",
        "# Conjunto (quita duplicados)\n",
        "nums = [1, 2, 2, 3, 3, 3]\n",
        "unicos = set(nums)\n",
        "print(\"Únicos:\", unicos)\n",
        "\n",
        "# Diccionario\n",
        "calif = {\"Ana\": [9, 8, 10], \"Luis\": [7, 7, 8]}\n",
        "prom_ana = sum(calif[\"Ana\"]) / len(calif[\"Ana\"])\n",
        "prom_grupo = sum(sum(v) for v in calif.values()) / sum(len(v) for v in calif.values())\n",
        "print(\"Promedio Ana:\", prom_ana, \"Promedio grupo:\", round(prom_grupo, 2))"
      ],
      "metadata": {
        "colab": {
          "base_uri": "https://localhost:8080/"
        },
        "id": "7no3o7dkS_fb",
        "outputId": "7b33bc9d-3582-4dbf-a835-db18878a5455"
      },
      "execution_count": null,
      "outputs": [
        {
          "output_type": "stream",
          "name": "stdout",
          "text": [
            "Lista compras: ['arroz', 'huevo', 'leche', 'manzana']  ¿leche? True\n",
            "Tupla punto: (3, 4)\n",
            "Únicos: {1, 2, 3}\n",
            "Promedio Ana: 9.0 Promedio grupo: 8.17\n"
          ]
        }
      ]
    },
    {
      "cell_type": "markdown",
      "source": [
        "EJEMPLO Y EXPLICACIÓN"
      ],
      "metadata": {
        "id": "nqifalHxl883"
      }
    },
    {
      "cell_type": "code",
      "source": [
        "# Lista de frutas\n",
        "frutas = [\"manzana\", \"banana\", \"naranja\"]\n",
        "frutas.append(\"uva\")          # Agregar al final\n",
        "frutas.remove(\"banana\")       # Quitar elemento\n",
        "frutas.sort()                 # Ordenar alfabéticamente\n",
        "print(\"Frutas:\", frutas)\n",
        "print(\"¿Hay manzana?\", \"manzana\" in frutas)\n",
        "\n",
        "# Tupla de coordenadas (inmutable)\n",
        "coordenada = (10, 20)\n",
        "print(\"Coordenada:\", coordenada)\n",
        "\n",
        "# Conjunto para eliminar duplicados\n",
        "numeros = [5, 3, 5, 2, 3, 1]\n",
        "sin_duplicados = set(numeros)\n",
        "print(\"Números únicos:\", sin_duplicados)\n",
        "\n",
        "# Diccionario de edades\n",
        "edades = {\"Ana\": 25, \"Carlos\": 30, \"Maria\": 28}\n",
        "promedio_edades = sum(edades.values()) / len(edades)\n",
        "print(\"Edad promedio:\", round(promedio_edades, 1))"
      ],
      "metadata": {
        "id": "EAfN2iIil92z"
      },
      "execution_count": null,
      "outputs": []
    },
    {
      "cell_type": "markdown",
      "source": [
        "Lista: Colección ordenada y modificable\n",
        "\n",
        "append() → agregar elemento\n",
        "\n",
        "remove() → quitar elemento\n",
        "\n",
        "sort() → ordenar\n",
        "\n",
        "in → verificar si existe\n",
        "\n",
        "Tupla: Colección ordenada e INMODIFICABLE\n",
        "\n",
        "Útil para datos constantes\n",
        "\n",
        "Conjunto (Set): Colección NO ordenada sin duplicados\n",
        "\n",
        "Elimina automáticamente repetidos\n",
        "\n",
        "Diccionario: Pares clave-valor\n",
        "\n",
        "valores() → obtiene todos los valores\n",
        "\n",
        "Claves únicas como índices"
      ],
      "metadata": {
        "id": "P0rytieAmGyB"
      }
    },
    {
      "cell_type": "markdown",
      "source": [
        "### COMPRENSIONES (LISTAS, SETS Y ADICCIONARIOS)"
      ],
      "metadata": {
        "id": "h3U5k6WVTDKi"
      }
    },
    {
      "cell_type": "code",
      "source": [
        "# Lista de cuadrados y filtrado de pares\n",
        "cuadrados = [n*n for n in range(1, 11)]\n",
        "pares = [x for x in cuadrados if x % 2 == 0]\n",
        "print(\"Cuadrados:\", cuadrados)\n",
        "print(\"Pares:\", pares)\n",
        "\n",
        "# Diccionario inverso (materia -> profe) => (profe -> materia)\n",
        "materia_a_profe = {\"Mate\": \"Sofía\", \"Física\": \"Sofía\", \"Historia\": \"Carlos\"}\n",
        "# Si un profe repite, guardamos una sola materia (ejemplo simple)\n",
        "profe_a_materia = {profe: materia for materia, profe in materia_a_profe.items()}\n",
        "print(\"Inverso simple:\", profe_a_materia)\n",
        "\n",
        "# Set comprehension: letras únicas sin vocales\n",
        "s = \"programación\"\n",
        "sin_vocales = {c for c in s if c not in \"aeiouáéíóú\"}\n",
        "print(\"Letras sin vocales:\", sin_vocales)"
      ],
      "metadata": {
        "id": "SErnOc03TVZG"
      },
      "execution_count": null,
      "outputs": []
    },
    {
      "cell_type": "markdown",
      "source": [
        "EJEMPLO Y EXPLICACIÓN"
      ],
      "metadata": {
        "id": "QwIMqaqnmWlZ"
      }
    },
    {
      "cell_type": "code",
      "source": [
        "# Lista de números al cuadrado\n",
        "numeros = [1, 2, 3, 4, 5]\n",
        "cuadrados = [n * n for n in numeros]\n",
        "print(\"Cuadrados:\", cuadrados)\n",
        "\n",
        "# Números pares solamente\n",
        "pares = [n for n in numeros if n % 2 == 0]\n",
        "print(\"Pares:\", pares)\n",
        "\n",
        "# Diccionario de precios con descuento\n",
        "precios = {\"pan\": 10, \"leche\": 20, \"huevo\": 15}\n",
        "descuento = {producto: precio * 0.9 for producto, precio in precios.items()}\n",
        "print(\"Precios con 10% descuento:\", descuento)\n",
        "\n",
        "# Letras únicas de una palabra (sin duplicados)\n",
        "palabra = \"python\"\n",
        "letras_unicas = {letra for letra in palabra}\n",
        "print(\"Letras únicas:\", letras_unicas)"
      ],
      "metadata": {
        "id": "gqqgyF2dmhaP"
      },
      "execution_count": null,
      "outputs": []
    },
    {
      "cell_type": "markdown",
      "source": [
        "Comprensión de listas: Crear listas de forma rápida\n",
        "\n",
        "[n * n for n in numeros] → cada número al cuadrado\n",
        "\n",
        "[n for n in numeros if n % 2 == 0] → solo números pares\n",
        "\n",
        "Comprensión de diccionarios: Transformar diccionarios\n",
        "\n",
        "{producto: precio * 0.9 for producto, precio in precios.items()} → aplicar descuento\n",
        "\n",
        "Comprensión de conjuntos: Crear conjuntos sin duplicados\n",
        "\n",
        "{letra for letra in palabra} → letras únicas de una palabra\n",
        "\n",
        "Ventaja: Código más corto, legible y eficiente que usar bucles tradicionales.\n",
        "\n"
      ],
      "metadata": {
        "id": "ydc75e-Pmide"
      }
    },
    {
      "cell_type": "markdown",
      "source": [
        "### FUNCIONES (def)"
      ],
      "metadata": {
        "id": "cuHRJgmPTcE3"
      }
    },
    {
      "cell_type": "code",
      "source": [
        "def area_rectangulo(base: float, altura: float = 1.0) -> float:\n",
        "    \"\"\"Calcula el área de un rectángulo.\"\"\"\n",
        "    return base * altura\n",
        "\n",
        "def es_segura(pw: str) -> bool:\n",
        "    \"\"\"Contraseña segura: >=8 y contiene mayúscula, minúscula y dígito.\"\"\"\n",
        "    return (\n",
        "        len(pw) >= 8 and\n",
        "        any(c.isupper() for c in pw) and\n",
        "        any(c.islower() for c in pw) and\n",
        "        any(c.isdigit() for c in pw)\n",
        "    )\n",
        "\n",
        "print(\"Área 5x2 =\", area_rectangulo(5, 2))\n",
        "print(\"¿'Hola1234' es segura?\", es_segura(\"Hola1234\"))\n",
        "print(\"¿'hola' es segura?\", es_segura(\"hola\"))"
      ],
      "metadata": {
        "id": "432ehw3ITfEg"
      },
      "execution_count": null,
      "outputs": []
    },
    {
      "cell_type": "markdown",
      "source": [
        "EJEMPLO Y EXPLICACIÓN"
      ],
      "metadata": {
        "id": "tQlkUTdbThoI"
      }
    },
    {
      "cell_type": "code",
      "source": [
        "def calcular_iva(precio: float, iva: float = 0.16) -> float:\n",
        "    \"\"\"Calcula el IVA de un producto.\"\"\"\n",
        "    return precio * iva\n",
        "\n",
        "def es_valido_email(email: str) -> bool:\n",
        "    \"\"\"Verifica si un email tiene formato válido (simple).\"\"\"\n",
        "    return (\n",
        "        \"@\" in email and\n",
        "        \".\" in email and\n",
        "        len(email) >= 5\n",
        "    )\n",
        "\n",
        "print(\"IVA de $100:\", calcular_iva(100))\n",
        "print(\"IVA de $200 con 10%:\", calcular_iva(200, 0.10))\n",
        "print(\"¿'usuario@mail.com' es válido?\", es_valido_email(\"usuario@mail.com\"))\n",
        "print(\"¿'hola' es válido?\", es_valido_email(\"hola\"))"
      ],
      "metadata": {
        "id": "ER7qGg6nmpoa"
      },
      "execution_count": null,
      "outputs": []
    },
    {
      "cell_type": "markdown",
      "source": [
        "Funciones: Bloques de código reutilizables\n",
        "\n",
        "Parámetros: Datos que recibe la función (precio, iva)\n",
        "\n",
        "Parámetro opcional: iva=0.16 → valor por defecto\n",
        "\n",
        "Tipo de datos: : float → indica el tipo que espera\n",
        "\n",
        "Docstring: \"\"\"explicación\"\"\" → documenta la función\n",
        "\n",
        "Return: return → devuelve el resultado\n",
        "\n",
        "Ventajas:\n",
        "\n",
        "Reutilizar código → escribir una vez, usar muchas\n",
        "\n",
        "Organizar → divide el programa en partes pequeñas\n",
        "\n",
        "Más legible → nombres claros para cada acción"
      ],
      "metadata": {
        "id": "tXPTVMPKmv9-"
      }
    },
    {
      "cell_type": "markdown",
      "source": [
        "### MÓDULOS Y PAQUETES"
      ],
      "metadata": {
        "id": "XUOodw0ETpz7"
      }
    },
    {
      "cell_type": "code",
      "source": [
        "# Creamos un módulo sencillo llamado utilidades.py\n",
        "contenido = '''\n",
        "def limpiar_texto(s: str) -> str:\n",
        "    return s.strip().lower()\n",
        "\n",
        "def contar_vocales(s: str) -> dict:\n",
        "    s = s.lower()\n",
        "    vocs = \"aeiouáéíóú\"\n",
        "    return {v: s.count(v) for v in vocs if s.count(v) > 0}\n",
        "'''.lstrip()\n",
        "\n",
        "with open(\"utilidades.py\", \"w\", encoding=\"utf-8\") as f:\n",
        "    f.write(contenido)\n",
        "\n",
        "# Lo importamos y usamos\n",
        "import utilidades as ut\n",
        "\n",
        "frase = \"  HOLA Mundo, Programación en PYTHON  \"\n",
        "print(\"Limpia:\", ut.limpiar_texto(frase))\n",
        "print(\"Vocales:\", ut.contar_vocales(frase))"
      ],
      "metadata": {
        "id": "nJ1d0in8TsyV"
      },
      "execution_count": null,
      "outputs": []
    },
    {
      "cell_type": "markdown",
      "source": [
        "EJEMPLO Y EXPLICACIÓN"
      ],
      "metadata": {
        "id": "TTqpTRHnTvop"
      }
    },
    {
      "cell_type": "code",
      "source": [
        "# Creamos un módulo matemático básico\n",
        "contenido = '''\n",
        "def sumar(a: float, b: float) -> float:\n",
        "    \"\"\"Suma dos números.\"\"\"\n",
        "    return a + b\n",
        "\n",
        "def es_par(n: int) -> bool:\n",
        "    \"\"\"Verifica si un número es par.\"\"\"\n",
        "    return n % 2 == 0\n",
        "'''.lstrip()\n",
        "\n",
        "# Guardamos el módulo\n",
        "with open(\"mates.py\", \"w\", encoding=\"utf-8\") as f:\n",
        "    f.write(contenido)\n",
        "\n",
        "# Importamos y usamos el módulo\n",
        "import mates as mt\n",
        "\n",
        "print(\"Suma 5 + 3:\", mt.sumar(5, 3))\n",
        "print(\"¿El 8 es par?\", mt.es_par(8))\n",
        "print(\"¿El 7 es par?\", mt.es_par(7))"
      ],
      "metadata": {
        "id": "Nm4ga0iBm7PZ"
      },
      "execution_count": null,
      "outputs": []
    },
    {
      "cell_type": "markdown",
      "source": [
        "Pasos:\n",
        "\n",
        "Crear módulo → Archivo .py con funciones\n",
        "\n",
        "Guardar → with open(\"mates.py\", \"w\")\n",
        "\n",
        "Importar → import mates as mt\n",
        "\n",
        "Usar → mt.sumar(5, 3)\n",
        "\n",
        "Ventajas:\n",
        "\n",
        "Organizar código → Dividir en archivos separados\n",
        "\n",
        "Reutilizar → Usar las mismas funciones en diferentes programas\n",
        "\n",
        "Mantenimiento → Más fácil de corregir y mejorar\n",
        "\n",
        "Nota: Los módulos permiten tener código ordenado y profesional.\n",
        "\n"
      ],
      "metadata": {
        "id": "Xzmxhk41m9gi"
      }
    },
    {
      "cell_type": "markdown",
      "source": [
        "### ARCHIVOS: LEER Y ESCRIBIR"
      ],
      "metadata": {
        "id": "guC129KLTzlT"
      }
    },
    {
      "cell_type": "code",
      "source": [
        "# Guardamos y leemos notas, luego calculamos promedio\n",
        "notas = [9.5, 8.0, 7.5, 10.0, 8.5]\n",
        "with open(\"notas.txt\", \"w\", encoding=\"utf-8\") as f:\n",
        "    for n in notas:\n",
        "        f.write(f\"{n}\\n\")\n",
        "\n",
        "leidas = []\n",
        "with open(\"notas.txt\", \"r\", encoding=\"utf-8\") as f:\n",
        "    for linea in f:\n",
        "        leidas.append(float(linea.strip()))\n",
        "\n",
        "promedio = sum(leidas) / len(leidas)\n",
        "print(\"Notas leídas:\", leidas, \" Promedio:\", round(promedio, 2))\n",
        "\n",
        "# Mini contador de palabras (simple)\n",
        "texto = \"¡Hola, hola! Esto es una prueba. Prueba simple; hola.\"\n",
        "with open(\"texto.txt\", \"w\", encoding=\"utf-8\") as f:\n",
        "    f.write(texto)\n",
        "\n",
        "import re\n",
        "with open(\"texto.txt\", \"r\", encoding=\"utf-8\") as f:\n",
        "    contenido = f.read().lower()\n",
        "    contenido = re.sub(r\"[^a-záéíóúñü\\s]\", \" \", contenido)  # quita signos\n",
        "    palabras = [p for p in contenido.split() if p]\n",
        "\n",
        "from collections import Counter\n",
        "top5 = Counter(palabras).most_common(5)\n",
        "print(\"Top 5 palabras:\", top5)"
      ],
      "metadata": {
        "id": "gRa7LYMWT3x-"
      },
      "execution_count": null,
      "outputs": []
    },
    {
      "cell_type": "markdown",
      "source": [
        "EJEMPLO Y EXPLICACIÓN"
      ],
      "metadata": {
        "id": "VaUO4mDMT68y"
      }
    },
    {
      "cell_type": "code",
      "source": [
        "# Guardar y leer números favoritos\n",
        "numeros = [7, 15, 23, 42, 5]\n",
        "with open(\"favoritos.txt\", \"w\", encoding=\"utf-8\") as archivo:\n",
        "    for num in numeros:\n",
        "        archivo.write(f\"{num}\\n\")\n",
        "\n",
        "# Leer los números guardados\n",
        "leidos = []\n",
        "with open(\"favoritos.txt\", \"r\", encoding=\"utf-8\") as archivo:\n",
        "    for linea in archivo:\n",
        "        leidos.append(int(linea.strip()))\n",
        "\n",
        "promedio = sum(leidos) / len(leidos)\n",
        "print(\"Números leídos:\", leidos)\n",
        "print(\"Promedio:\", round(promedio, 1))\n",
        "\n",
        "# Contar palabras simples\n",
        "texto = \"Python es genial. Python es fácil. Me gusta Python.\"\n",
        "with open(\"texto.txt\", \"w\", encoding=\"utf-8\") as archivo:\n",
        "    archivo.write(texto)\n",
        "\n",
        "# Leer y contar palabras\n",
        "with open(\"texto.txt\", \"r\", encoding=\"utf-8\") as archivo:\n",
        "    contenido = archivo.read().lower()\n",
        "    palabras = contenido.replace(\".\", \"\").split()\n",
        "\n",
        "from collections import Counter\n",
        "conteo = Counter(palabras)\n",
        "print(\"Palabra más común:\", conteo.most_common(1))"
      ],
      "metadata": {
        "id": "E2JG0CNUnITu"
      },
      "execution_count": null,
      "outputs": []
    },
    {
      "cell_type": "markdown",
      "source": [
        "Archivos:\n",
        "\n",
        "Escribir: with open(\"archivo.txt\", \"w\") → crea/sobrescribe\n",
        "\n",
        "Leer: with open(\"archivo.txt\", \"r\") → lee contenido\n",
        "\n",
        "strip() → elimina espacios y saltos de línea\n",
        "\n",
        "split() → divide texto en palabras\n",
        "\n",
        "Counter: Cuenta elementos automáticamente\n",
        "\n",
        "most_common(3) → las 3 palabras más repetidas\n",
        "\n",
        "Ventajas:\n",
        "\n",
        "Guardar datos → persistencia entre ejecuciones\n",
        "\n",
        "Intercambiar información → entre programas\n",
        "\n",
        "Procesar texto → análisis de contenido\n",
        "\n"
      ],
      "metadata": {
        "id": "lw79dyt6nJAv"
      }
    },
    {
      "cell_type": "markdown",
      "source": [
        "### ERRORES Y EXEPCIONES"
      ],
      "metadata": {
        "id": "07hyDtrgT83c"
      }
    },
    {
      "cell_type": "code",
      "source": [
        "def dividir_seguro(a, b):\n",
        "    if b == 0:\n",
        "        raise ValueError(\"No se puede dividir entre cero.\")\n",
        "    return a / b\n",
        "\n",
        "# Ejemplos con manejo de excepciones\n",
        "casos = [(10, 2), (5, 0), (\"9\", 3)]\n",
        "for x, y in casos:\n",
        "    try:\n",
        "        resultado = dividir_seguro(x, y)\n",
        "    except TypeError as e:\n",
        "        print(f\"TypeError con ({x}, {y}): {e}\")\n",
        "    except ValueError as e:\n",
        "        print(f\"ValueError con ({x}, {y}): {e}\")\n",
        "    else:\n",
        "        print(f\"{x} / {y} = {resultado}\")\n",
        "    finally:\n",
        "        pass  # lugar para liberar recursos si fuera necesario"
      ],
      "metadata": {
        "id": "iY4_xi2_UBL8"
      },
      "execution_count": null,
      "outputs": []
    },
    {
      "cell_type": "markdown",
      "source": [
        "EJEMPLO Y EXPLICACIÓN"
      ],
      "metadata": {
        "id": "h5gOtZpHUPde"
      }
    },
    {
      "cell_type": "code",
      "source": [
        "def calcular_division(a, b):\n",
        "    if b == 0:\n",
        "        raise ValueError(\"Error: División por cero no permitida\")\n",
        "    return a / b\n",
        "\n",
        "# Probamos diferentes casos\n",
        "casos = [(10, 2), (5, 0), (\"15\", 3)]\n",
        "\n",
        "for num1, num2 in casos:\n",
        "    try:\n",
        "        resultado = calcular_division(num1, num2)\n",
        "    except TypeError:\n",
        "        print(f\"Error: '{num1}' no es un número válido\")\n",
        "    except ValueError as error:\n",
        "        print(f\"Error: {error}\")\n",
        "    else:\n",
        "        print(f\"{num1} ÷ {num2} = {resultado}\")\n",
        "    finally:\n",
        "        print(\"--- Intento completado ---\")"
      ],
      "metadata": {
        "id": "bkoKhHLQnOG5"
      },
      "execution_count": null,
      "outputs": []
    },
    {
      "cell_type": "markdown",
      "source": [
        "Manejo de errores:\n",
        "\n",
        "try → Intenta ejecutar código que puede fallar\n",
        "\n",
        "except → Atrapa y maneja errores específicos\n",
        "\n",
        "else → Se ejecuta si NO hubo errores\n",
        "\n",
        "finally → Siempre se ejecuta (útil para limpiar)\n",
        "\n",
        "Tipos de errores comunes:\n",
        "\n",
        "ValueError → Valor incorrecto (división por cero)\n",
        "\n",
        "TypeError → Tipo de dato incorrecto\n",
        "\n",
        "Ventajas:\n",
        "\n",
        "Evita que el programa se cierre por errores\n",
        "\n",
        "Da mensajes claros al usuario\n",
        "\n",
        "Permite recuperarse de fallos"
      ],
      "metadata": {
        "id": "fbgmLngonOd2"
      }
    }
  ]
}